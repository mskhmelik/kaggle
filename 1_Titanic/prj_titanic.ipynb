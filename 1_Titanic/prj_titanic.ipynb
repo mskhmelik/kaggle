{
 "cells": [
  {
   "cell_type": "markdown",
   "metadata": {},
   "source": [
    "# Titanic survival prediction\n",
    "\n",
    "**Project overview**\n",
    "\n",
    "The sinking of the Titanic is one of the most infamous shipwrecks in history. On April 15, 1912, during her maiden voyage, the widely considered “unsinkable” RMS Titanic sank after colliding with an iceberg. Unfortunately, there weren’t enough lifeboats for everyone onboard, resulting in the death of 1502 out of 2224 passengers and crew.\n",
    "\n",
    "While there was some element of luck involved in surviving, it seems certain groups of people were more likely to survive than others. In this project, we aim to build a predictive model that answers the question: “what sorts of people were more likely to survive?” using passenger data (i.e., name, age, gender, socio-economic class, etc).\n",
    "\n",
    "**Data description**\n",
    "\n",
    "The dataset provided by Kaggle includes a training set and a test set. The features included involve passenger demographics and travel characteristics:\n",
    "\n",
    "1. `PassengerId`: Unique identifier for each passenger\n",
    "2. `Survived`: Survival (0 = No, 1 = Yes)\n",
    "3. `Pclass`: Ticket class — a proxy for socio-economic status (1 = 1st, 2 = 2nd, 3 = 3rd)\n",
    "4. `Name`: Full name of the passenger\n",
    "5. `Sex`: Gender of the passenger\n",
    "6. `Age`: Age in years\n",
    "7. `SibSp`: Number of siblings/spouses aboard the Titanic\n",
    "8. `Parch`: Number of parents/children aboard the Titanic\n",
    "9. `Ticket`: Ticket number\n",
    "10. `Fare`: Passenger fare\n",
    "11. `Cabin`: Cabin number\n",
    "12. `Embarked`: Port of Embarkation (C = Cherbourg, Q = Queenstown, S = Southampton)\n",
    "\n",
    "**Objective**\n",
    "\n",
    "The primary objective of this project is to make predictions on the survival of passengers. Our main metric is `accuracy` - the percentage of passengers we predicted correctely.\n",
    "\n",
    "**Output**\n",
    "\n",
    "A `csv` file with 418 entries plus a header row:\n",
    "1. `PassengerId` (sorted in any order)\n",
    "2. `Survived` (contains your binary predictions: 1 for survived, 0 for deceased)\n",
    "\n",
    "**Methodology**\n",
    "\n",
    "Our approach will consist of the following steps:\n",
    "\n",
    "1. Data exploration: Analyzing the features to understand the data's structure and the relationships between different variables.\n",
    "2. Data cleaning and preprocessing: Dealing with missing values, encoding categorical variables, and scaling features where necessary.\n",
    "3. Feature engineering: Creating new features from the existing data to improve the predictive power of our model.\n",
    "4. Model selection: Comparing different machine learning algorithms and selecting the most appropriate model for our data.\n",
    "5. Model training and evaluation: Training the model using the training dataset and evaluating its performance with a validation set.\n",
    "6. Model tuning: Improving the model by tuning its parameters.\n",
    "7. Prediction: Applying the final model to the test set to predict survival.\n",
    "8. Results iterpretation: Understanding the output of the model and the factors that influence the prediction.\n"
   ]
  },
  {
   "cell_type": "code",
   "execution_count": 41,
   "metadata": {},
   "outputs": [],
   "source": [
    "import pandas as pd\n",
    "import numpy as np\n",
    "import plotly.express as px\n",
    "import optuna\n",
    "\n",
    "from caseconverter import snakecase\n",
    "from collections import defaultdict\n",
    "from IPython.display import display\n",
    "\n",
    "from fast_ml import eda\n",
    "from ydata_profiling import ProfileReport\n",
    "\n",
    "from sklearn.pipeline import Pipeline\n",
    "from sklearn.compose import ColumnTransformer\n",
    "from sklearn.impute import SimpleImputer, KNNImputer\n",
    "from sklearn.preprocessing import StandardScaler\n",
    "from category_encoders import MEstimateEncoder\n",
    "\n",
    "from sklearn.linear_model import LogisticRegression\n",
    "from sklearn.tree import DecisionTreeClassifier\n",
    "from lightgbm import LGBMClassifier\n",
    "from catboost import CatBoostClassifier\n",
    "\n",
    "from sklearn.model_selection import cross_val_score\n",
    "from sklearn.metrics import accuracy_score"
   ]
  },
  {
   "cell_type": "code",
   "execution_count": 2,
   "metadata": {},
   "outputs": [],
   "source": [
    "FIG_WIDTH = 9 * 100\n",
    "FIG_HEIGHT = 5 * 100\n",
    "RANDOM_SEED = 42"
   ]
  },
  {
   "cell_type": "code",
   "execution_count": 3,
   "metadata": {},
   "outputs": [],
   "source": [
    "try:\n",
    "    raw_train = pd.read_csv('train.csv')\n",
    "    raw_test = pd.read_csv('test.csv')\n",
    "except:\n",
    "    raw_train = pd.read_csv('/kaggle/input/titanic/train.csv')\n",
    "    raw_test = pd.read_csv('/kaggle/input/titanic/test.csv')"
   ]
  },
  {
   "cell_type": "markdown",
   "metadata": {},
   "source": [
    "# Exploratory Data Analysis\n",
    "\n",
    "In this section, we focus on the critical aspects of understanding the Titanic dataset:\n",
    "\n",
    "1. Outlier detection: identify data points that deviate significantly from other observations.\n",
    "2. Missing values: quantify and analyze the presence of missing data across different features.\n",
    "3. Data consistency: check for any discrepancies or anomalies in the dataset that could indicate errors.\n",
    "4. Feature distributions: examine the distribution of each feature to understand the spread and central tendencies.\n",
    "5. Correlation analysis: investigate the relationships between different features, especially how they relate to the target variable 'Survived'.\n",
    "6. Data types: Assess the type of data (numerical/categorical) for appropriate preprocessing techniques.\n",
    "\n",
    "By addressing these points, we aim to prepare the dataset adequately for the subsequent stages of modeling and prediction.\n",
    "\n",
    "## Train data\n",
    "\n",
    "Let's first explore train data.\n",
    "\n",
    "Dataset sample:"
   ]
  },
  {
   "cell_type": "code",
   "execution_count": 4,
   "metadata": {},
   "outputs": [
    {
     "data": {
      "text/html": [
       "<div>\n",
       "<style scoped>\n",
       "    .dataframe tbody tr th:only-of-type {\n",
       "        vertical-align: middle;\n",
       "    }\n",
       "\n",
       "    .dataframe tbody tr th {\n",
       "        vertical-align: top;\n",
       "    }\n",
       "\n",
       "    .dataframe thead th {\n",
       "        text-align: right;\n",
       "    }\n",
       "</style>\n",
       "<table border=\"1\" class=\"dataframe\">\n",
       "  <thead>\n",
       "    <tr style=\"text-align: right;\">\n",
       "      <th></th>\n",
       "      <th>PassengerId</th>\n",
       "      <th>Survived</th>\n",
       "      <th>Pclass</th>\n",
       "      <th>Name</th>\n",
       "      <th>Sex</th>\n",
       "      <th>Age</th>\n",
       "      <th>SibSp</th>\n",
       "      <th>Parch</th>\n",
       "      <th>Ticket</th>\n",
       "      <th>Fare</th>\n",
       "      <th>Cabin</th>\n",
       "      <th>Embarked</th>\n",
       "    </tr>\n",
       "  </thead>\n",
       "  <tbody>\n",
       "    <tr>\n",
       "      <th>0</th>\n",
       "      <td>1</td>\n",
       "      <td>0</td>\n",
       "      <td>3</td>\n",
       "      <td>Braund, Mr. Owen Harris</td>\n",
       "      <td>male</td>\n",
       "      <td>22.0</td>\n",
       "      <td>1</td>\n",
       "      <td>0</td>\n",
       "      <td>A/5 21171</td>\n",
       "      <td>7.2500</td>\n",
       "      <td>NaN</td>\n",
       "      <td>S</td>\n",
       "    </tr>\n",
       "    <tr>\n",
       "      <th>1</th>\n",
       "      <td>2</td>\n",
       "      <td>1</td>\n",
       "      <td>1</td>\n",
       "      <td>Cumings, Mrs. John Bradley (Florence Briggs Th...</td>\n",
       "      <td>female</td>\n",
       "      <td>38.0</td>\n",
       "      <td>1</td>\n",
       "      <td>0</td>\n",
       "      <td>PC 17599</td>\n",
       "      <td>71.2833</td>\n",
       "      <td>C85</td>\n",
       "      <td>C</td>\n",
       "    </tr>\n",
       "    <tr>\n",
       "      <th>2</th>\n",
       "      <td>3</td>\n",
       "      <td>1</td>\n",
       "      <td>3</td>\n",
       "      <td>Heikkinen, Miss. Laina</td>\n",
       "      <td>female</td>\n",
       "      <td>26.0</td>\n",
       "      <td>0</td>\n",
       "      <td>0</td>\n",
       "      <td>STON/O2. 3101282</td>\n",
       "      <td>7.9250</td>\n",
       "      <td>NaN</td>\n",
       "      <td>S</td>\n",
       "    </tr>\n",
       "    <tr>\n",
       "      <th>3</th>\n",
       "      <td>4</td>\n",
       "      <td>1</td>\n",
       "      <td>1</td>\n",
       "      <td>Futrelle, Mrs. Jacques Heath (Lily May Peel)</td>\n",
       "      <td>female</td>\n",
       "      <td>35.0</td>\n",
       "      <td>1</td>\n",
       "      <td>0</td>\n",
       "      <td>113803</td>\n",
       "      <td>53.1000</td>\n",
       "      <td>C123</td>\n",
       "      <td>S</td>\n",
       "    </tr>\n",
       "    <tr>\n",
       "      <th>4</th>\n",
       "      <td>5</td>\n",
       "      <td>0</td>\n",
       "      <td>3</td>\n",
       "      <td>Allen, Mr. William Henry</td>\n",
       "      <td>male</td>\n",
       "      <td>35.0</td>\n",
       "      <td>0</td>\n",
       "      <td>0</td>\n",
       "      <td>373450</td>\n",
       "      <td>8.0500</td>\n",
       "      <td>NaN</td>\n",
       "      <td>S</td>\n",
       "    </tr>\n",
       "  </tbody>\n",
       "</table>\n",
       "</div>"
      ],
      "text/plain": [
       "   PassengerId  Survived  Pclass  \\\n",
       "0            1         0       3   \n",
       "1            2         1       1   \n",
       "2            3         1       3   \n",
       "3            4         1       1   \n",
       "4            5         0       3   \n",
       "\n",
       "                                                Name     Sex   Age  SibSp  \\\n",
       "0                            Braund, Mr. Owen Harris    male  22.0      1   \n",
       "1  Cumings, Mrs. John Bradley (Florence Briggs Th...  female  38.0      1   \n",
       "2                             Heikkinen, Miss. Laina  female  26.0      0   \n",
       "3       Futrelle, Mrs. Jacques Heath (Lily May Peel)  female  35.0      1   \n",
       "4                           Allen, Mr. William Henry    male  35.0      0   \n",
       "\n",
       "   Parch            Ticket     Fare Cabin Embarked  \n",
       "0      0         A/5 21171   7.2500   NaN        S  \n",
       "1      0          PC 17599  71.2833   C85        C  \n",
       "2      0  STON/O2. 3101282   7.9250   NaN        S  \n",
       "3      0            113803  53.1000  C123        S  \n",
       "4      0            373450   8.0500   NaN        S  "
      ]
     },
     "execution_count": 4,
     "metadata": {},
     "output_type": "execute_result"
    }
   ],
   "source": [
    "raw_train.head(5)"
   ]
  },
  {
   "cell_type": "markdown",
   "metadata": {},
   "source": [
    "Dataset overall summary:"
   ]
  },
  {
   "cell_type": "code",
   "execution_count": 5,
   "metadata": {},
   "outputs": [
    {
     "data": {
      "text/html": [
       "<div>\n",
       "<style scoped>\n",
       "    .dataframe tbody tr th:only-of-type {\n",
       "        vertical-align: middle;\n",
       "    }\n",
       "\n",
       "    .dataframe tbody tr th {\n",
       "        vertical-align: top;\n",
       "    }\n",
       "\n",
       "    .dataframe thead th {\n",
       "        text-align: right;\n",
       "    }\n",
       "</style>\n",
       "<table border=\"1\" class=\"dataframe\">\n",
       "  <thead>\n",
       "    <tr style=\"text-align: right;\">\n",
       "      <th></th>\n",
       "      <th>data_type</th>\n",
       "      <th>data_type_grp</th>\n",
       "      <th>num_unique_values</th>\n",
       "      <th>sample_unique_values</th>\n",
       "      <th>num_missing</th>\n",
       "      <th>perc_missing</th>\n",
       "    </tr>\n",
       "  </thead>\n",
       "  <tbody>\n",
       "    <tr>\n",
       "      <th>PassengerId</th>\n",
       "      <td>int64</td>\n",
       "      <td>Numerical</td>\n",
       "      <td>891</td>\n",
       "      <td>[1, 2, 3, 4, 5, 6, 7, 8, 9, 10]</td>\n",
       "      <td>0</td>\n",
       "      <td>0.0</td>\n",
       "    </tr>\n",
       "    <tr>\n",
       "      <th>Survived</th>\n",
       "      <td>int64</td>\n",
       "      <td>Numerical</td>\n",
       "      <td>2</td>\n",
       "      <td>[0, 1]</td>\n",
       "      <td>0</td>\n",
       "      <td>0.0</td>\n",
       "    </tr>\n",
       "    <tr>\n",
       "      <th>Pclass</th>\n",
       "      <td>int64</td>\n",
       "      <td>Numerical</td>\n",
       "      <td>3</td>\n",
       "      <td>[3, 1, 2]</td>\n",
       "      <td>0</td>\n",
       "      <td>0.0</td>\n",
       "    </tr>\n",
       "    <tr>\n",
       "      <th>Name</th>\n",
       "      <td>object</td>\n",
       "      <td>Categorical</td>\n",
       "      <td>891</td>\n",
       "      <td>[Braund, Mr. Owen Harris, Cumings, Mrs. John B...</td>\n",
       "      <td>0</td>\n",
       "      <td>0.0</td>\n",
       "    </tr>\n",
       "    <tr>\n",
       "      <th>Sex</th>\n",
       "      <td>object</td>\n",
       "      <td>Categorical</td>\n",
       "      <td>2</td>\n",
       "      <td>[male, female]</td>\n",
       "      <td>0</td>\n",
       "      <td>0.0</td>\n",
       "    </tr>\n",
       "    <tr>\n",
       "      <th>Age</th>\n",
       "      <td>float64</td>\n",
       "      <td>Numerical</td>\n",
       "      <td>88</td>\n",
       "      <td>[22.0, 38.0, 26.0, 35.0, nan, 54.0, 2.0, 27.0,...</td>\n",
       "      <td>177</td>\n",
       "      <td>19.86532</td>\n",
       "    </tr>\n",
       "    <tr>\n",
       "      <th>SibSp</th>\n",
       "      <td>int64</td>\n",
       "      <td>Numerical</td>\n",
       "      <td>7</td>\n",
       "      <td>[1, 0, 3, 4, 2, 5, 8]</td>\n",
       "      <td>0</td>\n",
       "      <td>0.0</td>\n",
       "    </tr>\n",
       "    <tr>\n",
       "      <th>Parch</th>\n",
       "      <td>int64</td>\n",
       "      <td>Numerical</td>\n",
       "      <td>7</td>\n",
       "      <td>[0, 1, 2, 5, 3, 4, 6]</td>\n",
       "      <td>0</td>\n",
       "      <td>0.0</td>\n",
       "    </tr>\n",
       "    <tr>\n",
       "      <th>Ticket</th>\n",
       "      <td>object</td>\n",
       "      <td>Categorical</td>\n",
       "      <td>681</td>\n",
       "      <td>[A/5 21171, PC 17599, STON/O2. 3101282, 113803...</td>\n",
       "      <td>0</td>\n",
       "      <td>0.0</td>\n",
       "    </tr>\n",
       "    <tr>\n",
       "      <th>Fare</th>\n",
       "      <td>float64</td>\n",
       "      <td>Numerical</td>\n",
       "      <td>248</td>\n",
       "      <td>[7.25, 71.2833, 7.925, 53.1, 8.05, 8.4583, 51....</td>\n",
       "      <td>0</td>\n",
       "      <td>0.0</td>\n",
       "    </tr>\n",
       "    <tr>\n",
       "      <th>Cabin</th>\n",
       "      <td>object</td>\n",
       "      <td>Categorical</td>\n",
       "      <td>147</td>\n",
       "      <td>[nan, C85, C123, E46, G6, C103, D56, A6, C23 C...</td>\n",
       "      <td>687</td>\n",
       "      <td>77.104377</td>\n",
       "    </tr>\n",
       "    <tr>\n",
       "      <th>Embarked</th>\n",
       "      <td>object</td>\n",
       "      <td>Categorical</td>\n",
       "      <td>3</td>\n",
       "      <td>[S, C, Q, nan]</td>\n",
       "      <td>2</td>\n",
       "      <td>0.224467</td>\n",
       "    </tr>\n",
       "  </tbody>\n",
       "</table>\n",
       "</div>"
      ],
      "text/plain": [
       "            data_type data_type_grp num_unique_values  \\\n",
       "PassengerId     int64     Numerical               891   \n",
       "Survived        int64     Numerical                 2   \n",
       "Pclass          int64     Numerical                 3   \n",
       "Name           object   Categorical               891   \n",
       "Sex            object   Categorical                 2   \n",
       "Age           float64     Numerical                88   \n",
       "SibSp           int64     Numerical                 7   \n",
       "Parch           int64     Numerical                 7   \n",
       "Ticket         object   Categorical               681   \n",
       "Fare          float64     Numerical               248   \n",
       "Cabin          object   Categorical               147   \n",
       "Embarked       object   Categorical                 3   \n",
       "\n",
       "                                          sample_unique_values num_missing  \\\n",
       "PassengerId                    [1, 2, 3, 4, 5, 6, 7, 8, 9, 10]           0   \n",
       "Survived                                                [0, 1]           0   \n",
       "Pclass                                               [3, 1, 2]           0   \n",
       "Name         [Braund, Mr. Owen Harris, Cumings, Mrs. John B...           0   \n",
       "Sex                                             [male, female]           0   \n",
       "Age          [22.0, 38.0, 26.0, 35.0, nan, 54.0, 2.0, 27.0,...         177   \n",
       "SibSp                                    [1, 0, 3, 4, 2, 5, 8]           0   \n",
       "Parch                                    [0, 1, 2, 5, 3, 4, 6]           0   \n",
       "Ticket       [A/5 21171, PC 17599, STON/O2. 3101282, 113803...           0   \n",
       "Fare         [7.25, 71.2833, 7.925, 53.1, 8.05, 8.4583, 51....           0   \n",
       "Cabin        [nan, C85, C123, E46, G6, C103, D56, A6, C23 C...         687   \n",
       "Embarked                                        [S, C, Q, nan]           2   \n",
       "\n",
       "            perc_missing  \n",
       "PassengerId          0.0  \n",
       "Survived             0.0  \n",
       "Pclass               0.0  \n",
       "Name                 0.0  \n",
       "Sex                  0.0  \n",
       "Age             19.86532  \n",
       "SibSp                0.0  \n",
       "Parch                0.0  \n",
       "Ticket               0.0  \n",
       "Fare                 0.0  \n",
       "Cabin          77.104377  \n",
       "Embarked        0.224467  "
      ]
     },
     "metadata": {},
     "output_type": "display_data"
    }
   ],
   "source": [
    "display(eda.df_info(raw_train))"
   ]
  },
  {
   "cell_type": "markdown",
   "metadata": {},
   "source": [
    "Dataset numerical distributions:"
   ]
  },
  {
   "cell_type": "code",
   "execution_count": 6,
   "metadata": {},
   "outputs": [
    {
     "data": {
      "text/html": [
       "<div>\n",
       "<style scoped>\n",
       "    .dataframe tbody tr th:only-of-type {\n",
       "        vertical-align: middle;\n",
       "    }\n",
       "\n",
       "    .dataframe tbody tr th {\n",
       "        vertical-align: top;\n",
       "    }\n",
       "\n",
       "    .dataframe thead th {\n",
       "        text-align: right;\n",
       "    }\n",
       "</style>\n",
       "<table border=\"1\" class=\"dataframe\">\n",
       "  <thead>\n",
       "    <tr style=\"text-align: right;\">\n",
       "      <th></th>\n",
       "      <th>count</th>\n",
       "      <th>mean</th>\n",
       "      <th>std</th>\n",
       "      <th>min</th>\n",
       "      <th>25%</th>\n",
       "      <th>50%</th>\n",
       "      <th>75%</th>\n",
       "      <th>max</th>\n",
       "    </tr>\n",
       "  </thead>\n",
       "  <tbody>\n",
       "    <tr>\n",
       "      <th>PassengerId</th>\n",
       "      <td>891.0</td>\n",
       "      <td>446.00</td>\n",
       "      <td>257.35</td>\n",
       "      <td>1.00</td>\n",
       "      <td>223.50</td>\n",
       "      <td>446.00</td>\n",
       "      <td>668.5</td>\n",
       "      <td>891.00</td>\n",
       "    </tr>\n",
       "    <tr>\n",
       "      <th>Survived</th>\n",
       "      <td>891.0</td>\n",
       "      <td>0.38</td>\n",
       "      <td>0.49</td>\n",
       "      <td>0.00</td>\n",
       "      <td>0.00</td>\n",
       "      <td>0.00</td>\n",
       "      <td>1.0</td>\n",
       "      <td>1.00</td>\n",
       "    </tr>\n",
       "    <tr>\n",
       "      <th>Pclass</th>\n",
       "      <td>891.0</td>\n",
       "      <td>2.31</td>\n",
       "      <td>0.84</td>\n",
       "      <td>1.00</td>\n",
       "      <td>2.00</td>\n",
       "      <td>3.00</td>\n",
       "      <td>3.0</td>\n",
       "      <td>3.00</td>\n",
       "    </tr>\n",
       "    <tr>\n",
       "      <th>Age</th>\n",
       "      <td>714.0</td>\n",
       "      <td>29.70</td>\n",
       "      <td>14.53</td>\n",
       "      <td>0.42</td>\n",
       "      <td>20.12</td>\n",
       "      <td>28.00</td>\n",
       "      <td>38.0</td>\n",
       "      <td>80.00</td>\n",
       "    </tr>\n",
       "    <tr>\n",
       "      <th>SibSp</th>\n",
       "      <td>891.0</td>\n",
       "      <td>0.52</td>\n",
       "      <td>1.10</td>\n",
       "      <td>0.00</td>\n",
       "      <td>0.00</td>\n",
       "      <td>0.00</td>\n",
       "      <td>1.0</td>\n",
       "      <td>8.00</td>\n",
       "    </tr>\n",
       "    <tr>\n",
       "      <th>Parch</th>\n",
       "      <td>891.0</td>\n",
       "      <td>0.38</td>\n",
       "      <td>0.81</td>\n",
       "      <td>0.00</td>\n",
       "      <td>0.00</td>\n",
       "      <td>0.00</td>\n",
       "      <td>0.0</td>\n",
       "      <td>6.00</td>\n",
       "    </tr>\n",
       "    <tr>\n",
       "      <th>Fare</th>\n",
       "      <td>891.0</td>\n",
       "      <td>32.20</td>\n",
       "      <td>49.69</td>\n",
       "      <td>0.00</td>\n",
       "      <td>7.91</td>\n",
       "      <td>14.45</td>\n",
       "      <td>31.0</td>\n",
       "      <td>512.33</td>\n",
       "    </tr>\n",
       "  </tbody>\n",
       "</table>\n",
       "</div>"
      ],
      "text/plain": [
       "             count    mean     std   min     25%     50%    75%     max\n",
       "PassengerId  891.0  446.00  257.35  1.00  223.50  446.00  668.5  891.00\n",
       "Survived     891.0    0.38    0.49  0.00    0.00    0.00    1.0    1.00\n",
       "Pclass       891.0    2.31    0.84  1.00    2.00    3.00    3.0    3.00\n",
       "Age          714.0   29.70   14.53  0.42   20.12   28.00   38.0   80.00\n",
       "SibSp        891.0    0.52    1.10  0.00    0.00    0.00    1.0    8.00\n",
       "Parch        891.0    0.38    0.81  0.00    0.00    0.00    0.0    6.00\n",
       "Fare         891.0   32.20   49.69  0.00    7.91   14.45   31.0  512.33"
      ]
     },
     "metadata": {},
     "output_type": "display_data"
    }
   ],
   "source": [
    "display(round(raw_train.describe().T, 2))"
   ]
  },
  {
   "cell_type": "markdown",
   "metadata": {},
   "source": [
    "Detailed breakdown:"
   ]
  },
  {
   "cell_type": "code",
   "execution_count": 7,
   "metadata": {},
   "outputs": [
    {
     "name": "stderr",
     "output_type": "stream",
     "text": [
      "Summarize dataset: 100%|██████████| 47/47 [00:05<00:00,  8.24it/s, Completed]                       \n",
      "Generate report structure: 100%|██████████| 1/1 [00:05<00:00,  5.81s/it]\n",
      "Render widgets:   0%|          | 0/1 [00:00<?, ?it/s]"
     ]
    },
    {
     "name": "stderr",
     "output_type": "stream",
     "text": [
      "                                                             \r"
     ]
    },
    {
     "data": {
      "application/vnd.jupyter.widget-view+json": {
       "model_id": "bda243b70d914823897bb1c9ebcea67c",
       "version_major": 2,
       "version_minor": 0
      },
      "text/plain": [
       "VBox(children=(Tab(children=(Tab(children=(GridBox(children=(VBox(children=(GridspecLayout(children=(HTML(valu…"
      ]
     },
     "metadata": {},
     "output_type": "display_data"
    }
   ],
   "source": [
    "ProfileReport(raw_train).to_widgets()"
   ]
  },
  {
   "cell_type": "markdown",
   "metadata": {},
   "source": [
    "**A summary of key observations that stand out:**\n",
    "\n",
    "Completeness of Data:\n",
    "1. The `Age` feature has 177 missing values, which is about 20% of the data. This is significant and needs to be addressed, either through imputation or by discarding incomplete records depending on the chosen strategy.\n",
    "2. The `Cabin` feature has a substantial amount of missing data, with 687 missing values, accounting for 77% of the entire dataset. The high percentage of missing data might make this feature less reliable for predictive modeling unless we can infer missing cabins from other data or decide to exclude it from the analysis.\n",
    "3. There are 2 missing values in the `Embarked` feature, a negligible amount of the data which should be relatively straightforward to handle, either by removal or imputation.\n",
    "\n",
    "Potential Outliers:\n",
    "1. The `Fare` feature shows a considerable standard deviation (49.7) relative to its mean (32.2), and the maximum value is 512.3, which suggests the presence of outliers that could be distorting the overall distribution. These may need to be investigated to determine if they are legitimate values or anomalies due to errors or other factors.\n",
    "\n",
    "Feature Distributions:\n",
    "1. The target variable `Survived` is imbalanced. With a mean of 0.38, fewer passengers in the training set survived (38%) than did not, which is an essential consideration for model training.\n",
    "2. `Pclass` appears to be well distributed across the three possible values, which are indicative of socio-economic status.\n",
    "3. `SibSp` and `Parch` have a right-skewed distribution, with most passengers having no siblings/spouses or parents/children aboard. However, there are passengers with as many as 8 siblings/spouses and 6 parents/children, which could be outliers or represent large families traveling together.\n",
    "4. `Age` seems reasonably normally distributed but slightly right-skewed due to younger passengers, with the mean age around 29.7 years.\n",
    "\n",
    "Categorical Features:\n",
    "1. The `Name` and `Ticket` features are unique to each passenger, which suggests they won’t be directly useful for machine learning models without feature engineering. For instance, titles extracted from names could provide information on social status or gender.\n",
    "2. The `Sex` feature has two unique values and will need to be encoded into numerical form for model processing.\n",
    "3. The `Cabin` data has many unique values with a high percentage of missing data, which complicates its use directly as a feature.\n",
    "\n",
    "Data Integrity:\n",
    "1. There are no missing values reported for several critical features such as `PassengerId`, `Survived`, `Pclass`, `Name`, `Sex`, `SibSp`, `Parch`, `Ticket`, and `Fare`, which is good for the integrity of those columns.\n",
    "\n",
    "**A summary of correlations:**\n",
    "\n",
    "Survivability correlations:\n",
    "1. There is a moderate positive correlation between `Survived` and `Fare` (0.28), which suggests that passengers who paid higher fares had a better chance of surviving. This could be linked to the socio-economic status of passengers, where higher-paying passengers might have been given priority during the evacuation.\n",
    "2. `Survived` is also moderately positively correlated with `Pclass` (0.34), indicating that passenger class had an impact on survival, with first-class passengers more likely to survive than those in third class.\n",
    "3. The strongest correlation with `Survived` is with `Sex` (0.54), showing that females had a much higher likelihood of survival compared to males, likely due to the \"women and children first\" protocol followed during the evacuation.\n",
    "\n",
    "Socio-economic status:\n",
    "1. `Fare` and `Pclass` have a strong negative correlation (-0.48), as expected, because first-class tickets were more expensive. This suggests that `Pclass` could be a proxy for socio-economic status and financial capability.\n",
    "2. `Age` and `Pclass` are positively correlated (0.27), implying that older passengers tended to travel in higher classes.\n",
    "\n",
    "Family and traveling companions:\n",
    "1. There is a substantial positive correlation between `SibSp` (number of siblings/spouses aboard) and `Parch` (number of parents/children aboard) (0.45). This suggests that families tended to travel together on the Titanic.\n",
    "\n",
    "Age-related correlations:\n",
    "1. Both `SibSp` and `Parch` show a negative correlation with `Age`, -0.18 and -0.25 respectively. This might indicate that younger passengers were more likely to be traveling with siblings and parents.\n",
    "\n",
    "Embarkation points:\n",
    "1. The correlations involving `Embarked` are relatively low, suggesting that the port of embarkation does not have a strong linear relationship with other numerical variables in the dataset. However, considering that `Embarked` is a categorical variable, correlation coefficients may not fully capture the relationships with this feature.\n",
    "\n",
    "It is important to note that correlation does not imply causation. High or low correlation coefficients indicate a possible association but do not confirm a direct cause-and-effect relationship. Additionally, for categorical variables like `Sex` and `Embarked`, which have been numerically encoded, the interpretation of correlations can be less intuitive and require careful analysis."
   ]
  },
  {
   "cell_type": "markdown",
   "metadata": {},
   "source": [
    "## Test data\n",
    "\n",
    "Now let's have a look at test data.\n",
    "\n",
    "Dataset sample:"
   ]
  },
  {
   "cell_type": "code",
   "execution_count": 8,
   "metadata": {},
   "outputs": [
    {
     "data": {
      "text/html": [
       "<div>\n",
       "<style scoped>\n",
       "    .dataframe tbody tr th:only-of-type {\n",
       "        vertical-align: middle;\n",
       "    }\n",
       "\n",
       "    .dataframe tbody tr th {\n",
       "        vertical-align: top;\n",
       "    }\n",
       "\n",
       "    .dataframe thead th {\n",
       "        text-align: right;\n",
       "    }\n",
       "</style>\n",
       "<table border=\"1\" class=\"dataframe\">\n",
       "  <thead>\n",
       "    <tr style=\"text-align: right;\">\n",
       "      <th></th>\n",
       "      <th>PassengerId</th>\n",
       "      <th>Pclass</th>\n",
       "      <th>Name</th>\n",
       "      <th>Sex</th>\n",
       "      <th>Age</th>\n",
       "      <th>SibSp</th>\n",
       "      <th>Parch</th>\n",
       "      <th>Ticket</th>\n",
       "      <th>Fare</th>\n",
       "      <th>Cabin</th>\n",
       "      <th>Embarked</th>\n",
       "    </tr>\n",
       "  </thead>\n",
       "  <tbody>\n",
       "    <tr>\n",
       "      <th>0</th>\n",
       "      <td>892</td>\n",
       "      <td>3</td>\n",
       "      <td>Kelly, Mr. James</td>\n",
       "      <td>male</td>\n",
       "      <td>34.5</td>\n",
       "      <td>0</td>\n",
       "      <td>0</td>\n",
       "      <td>330911</td>\n",
       "      <td>7.8292</td>\n",
       "      <td>NaN</td>\n",
       "      <td>Q</td>\n",
       "    </tr>\n",
       "    <tr>\n",
       "      <th>1</th>\n",
       "      <td>893</td>\n",
       "      <td>3</td>\n",
       "      <td>Wilkes, Mrs. James (Ellen Needs)</td>\n",
       "      <td>female</td>\n",
       "      <td>47.0</td>\n",
       "      <td>1</td>\n",
       "      <td>0</td>\n",
       "      <td>363272</td>\n",
       "      <td>7.0000</td>\n",
       "      <td>NaN</td>\n",
       "      <td>S</td>\n",
       "    </tr>\n",
       "    <tr>\n",
       "      <th>2</th>\n",
       "      <td>894</td>\n",
       "      <td>2</td>\n",
       "      <td>Myles, Mr. Thomas Francis</td>\n",
       "      <td>male</td>\n",
       "      <td>62.0</td>\n",
       "      <td>0</td>\n",
       "      <td>0</td>\n",
       "      <td>240276</td>\n",
       "      <td>9.6875</td>\n",
       "      <td>NaN</td>\n",
       "      <td>Q</td>\n",
       "    </tr>\n",
       "    <tr>\n",
       "      <th>3</th>\n",
       "      <td>895</td>\n",
       "      <td>3</td>\n",
       "      <td>Wirz, Mr. Albert</td>\n",
       "      <td>male</td>\n",
       "      <td>27.0</td>\n",
       "      <td>0</td>\n",
       "      <td>0</td>\n",
       "      <td>315154</td>\n",
       "      <td>8.6625</td>\n",
       "      <td>NaN</td>\n",
       "      <td>S</td>\n",
       "    </tr>\n",
       "    <tr>\n",
       "      <th>4</th>\n",
       "      <td>896</td>\n",
       "      <td>3</td>\n",
       "      <td>Hirvonen, Mrs. Alexander (Helga E Lindqvist)</td>\n",
       "      <td>female</td>\n",
       "      <td>22.0</td>\n",
       "      <td>1</td>\n",
       "      <td>1</td>\n",
       "      <td>3101298</td>\n",
       "      <td>12.2875</td>\n",
       "      <td>NaN</td>\n",
       "      <td>S</td>\n",
       "    </tr>\n",
       "  </tbody>\n",
       "</table>\n",
       "</div>"
      ],
      "text/plain": [
       "   PassengerId  Pclass                                          Name     Sex  \\\n",
       "0          892       3                              Kelly, Mr. James    male   \n",
       "1          893       3              Wilkes, Mrs. James (Ellen Needs)  female   \n",
       "2          894       2                     Myles, Mr. Thomas Francis    male   \n",
       "3          895       3                              Wirz, Mr. Albert    male   \n",
       "4          896       3  Hirvonen, Mrs. Alexander (Helga E Lindqvist)  female   \n",
       "\n",
       "    Age  SibSp  Parch   Ticket     Fare Cabin Embarked  \n",
       "0  34.5      0      0   330911   7.8292   NaN        Q  \n",
       "1  47.0      1      0   363272   7.0000   NaN        S  \n",
       "2  62.0      0      0   240276   9.6875   NaN        Q  \n",
       "3  27.0      0      0   315154   8.6625   NaN        S  \n",
       "4  22.0      1      1  3101298  12.2875   NaN        S  "
      ]
     },
     "execution_count": 8,
     "metadata": {},
     "output_type": "execute_result"
    }
   ],
   "source": [
    "raw_test.head(5)"
   ]
  },
  {
   "cell_type": "markdown",
   "metadata": {},
   "source": [
    "Dataset overall summary:"
   ]
  },
  {
   "cell_type": "code",
   "execution_count": 9,
   "metadata": {},
   "outputs": [
    {
     "data": {
      "text/html": [
       "<div>\n",
       "<style scoped>\n",
       "    .dataframe tbody tr th:only-of-type {\n",
       "        vertical-align: middle;\n",
       "    }\n",
       "\n",
       "    .dataframe tbody tr th {\n",
       "        vertical-align: top;\n",
       "    }\n",
       "\n",
       "    .dataframe thead th {\n",
       "        text-align: right;\n",
       "    }\n",
       "</style>\n",
       "<table border=\"1\" class=\"dataframe\">\n",
       "  <thead>\n",
       "    <tr style=\"text-align: right;\">\n",
       "      <th></th>\n",
       "      <th>data_type</th>\n",
       "      <th>data_type_grp</th>\n",
       "      <th>num_unique_values</th>\n",
       "      <th>sample_unique_values</th>\n",
       "      <th>num_missing</th>\n",
       "      <th>perc_missing</th>\n",
       "    </tr>\n",
       "  </thead>\n",
       "  <tbody>\n",
       "    <tr>\n",
       "      <th>PassengerId</th>\n",
       "      <td>int64</td>\n",
       "      <td>Numerical</td>\n",
       "      <td>418</td>\n",
       "      <td>[892, 893, 894, 895, 896, 897, 898, 899, 900, ...</td>\n",
       "      <td>0</td>\n",
       "      <td>0.0</td>\n",
       "    </tr>\n",
       "    <tr>\n",
       "      <th>Pclass</th>\n",
       "      <td>int64</td>\n",
       "      <td>Numerical</td>\n",
       "      <td>3</td>\n",
       "      <td>[3, 2, 1]</td>\n",
       "      <td>0</td>\n",
       "      <td>0.0</td>\n",
       "    </tr>\n",
       "    <tr>\n",
       "      <th>Name</th>\n",
       "      <td>object</td>\n",
       "      <td>Categorical</td>\n",
       "      <td>418</td>\n",
       "      <td>[Kelly, Mr. James, Wilkes, Mrs. James (Ellen N...</td>\n",
       "      <td>0</td>\n",
       "      <td>0.0</td>\n",
       "    </tr>\n",
       "    <tr>\n",
       "      <th>Sex</th>\n",
       "      <td>object</td>\n",
       "      <td>Categorical</td>\n",
       "      <td>2</td>\n",
       "      <td>[male, female]</td>\n",
       "      <td>0</td>\n",
       "      <td>0.0</td>\n",
       "    </tr>\n",
       "    <tr>\n",
       "      <th>Age</th>\n",
       "      <td>float64</td>\n",
       "      <td>Numerical</td>\n",
       "      <td>79</td>\n",
       "      <td>[34.5, 47.0, 62.0, 27.0, 22.0, 14.0, 30.0, 26....</td>\n",
       "      <td>86</td>\n",
       "      <td>20.574163</td>\n",
       "    </tr>\n",
       "    <tr>\n",
       "      <th>SibSp</th>\n",
       "      <td>int64</td>\n",
       "      <td>Numerical</td>\n",
       "      <td>7</td>\n",
       "      <td>[0, 1, 2, 3, 4, 5, 8]</td>\n",
       "      <td>0</td>\n",
       "      <td>0.0</td>\n",
       "    </tr>\n",
       "    <tr>\n",
       "      <th>Parch</th>\n",
       "      <td>int64</td>\n",
       "      <td>Numerical</td>\n",
       "      <td>8</td>\n",
       "      <td>[0, 1, 3, 2, 4, 6, 5, 9]</td>\n",
       "      <td>0</td>\n",
       "      <td>0.0</td>\n",
       "    </tr>\n",
       "    <tr>\n",
       "      <th>Ticket</th>\n",
       "      <td>object</td>\n",
       "      <td>Categorical</td>\n",
       "      <td>363</td>\n",
       "      <td>[330911, 363272, 240276, 315154, 3101298, 7538...</td>\n",
       "      <td>0</td>\n",
       "      <td>0.0</td>\n",
       "    </tr>\n",
       "    <tr>\n",
       "      <th>Fare</th>\n",
       "      <td>float64</td>\n",
       "      <td>Numerical</td>\n",
       "      <td>169</td>\n",
       "      <td>[7.8292, 7.0, 9.6875, 8.6625, 12.2875, 9.225, ...</td>\n",
       "      <td>1</td>\n",
       "      <td>0.239234</td>\n",
       "    </tr>\n",
       "    <tr>\n",
       "      <th>Cabin</th>\n",
       "      <td>object</td>\n",
       "      <td>Categorical</td>\n",
       "      <td>76</td>\n",
       "      <td>[nan, B45, E31, B57 B59 B63 B66, B36, A21, C78...</td>\n",
       "      <td>327</td>\n",
       "      <td>78.229665</td>\n",
       "    </tr>\n",
       "    <tr>\n",
       "      <th>Embarked</th>\n",
       "      <td>object</td>\n",
       "      <td>Categorical</td>\n",
       "      <td>3</td>\n",
       "      <td>[Q, S, C]</td>\n",
       "      <td>0</td>\n",
       "      <td>0.0</td>\n",
       "    </tr>\n",
       "  </tbody>\n",
       "</table>\n",
       "</div>"
      ],
      "text/plain": [
       "            data_type data_type_grp num_unique_values  \\\n",
       "PassengerId     int64     Numerical               418   \n",
       "Pclass          int64     Numerical                 3   \n",
       "Name           object   Categorical               418   \n",
       "Sex            object   Categorical                 2   \n",
       "Age           float64     Numerical                79   \n",
       "SibSp           int64     Numerical                 7   \n",
       "Parch           int64     Numerical                 8   \n",
       "Ticket         object   Categorical               363   \n",
       "Fare          float64     Numerical               169   \n",
       "Cabin          object   Categorical                76   \n",
       "Embarked       object   Categorical                 3   \n",
       "\n",
       "                                          sample_unique_values num_missing  \\\n",
       "PassengerId  [892, 893, 894, 895, 896, 897, 898, 899, 900, ...           0   \n",
       "Pclass                                               [3, 2, 1]           0   \n",
       "Name         [Kelly, Mr. James, Wilkes, Mrs. James (Ellen N...           0   \n",
       "Sex                                             [male, female]           0   \n",
       "Age          [34.5, 47.0, 62.0, 27.0, 22.0, 14.0, 30.0, 26....          86   \n",
       "SibSp                                    [0, 1, 2, 3, 4, 5, 8]           0   \n",
       "Parch                                 [0, 1, 3, 2, 4, 6, 5, 9]           0   \n",
       "Ticket       [330911, 363272, 240276, 315154, 3101298, 7538...           0   \n",
       "Fare         [7.8292, 7.0, 9.6875, 8.6625, 12.2875, 9.225, ...           1   \n",
       "Cabin        [nan, B45, E31, B57 B59 B63 B66, B36, A21, C78...         327   \n",
       "Embarked                                             [Q, S, C]           0   \n",
       "\n",
       "            perc_missing  \n",
       "PassengerId          0.0  \n",
       "Pclass               0.0  \n",
       "Name                 0.0  \n",
       "Sex                  0.0  \n",
       "Age            20.574163  \n",
       "SibSp                0.0  \n",
       "Parch                0.0  \n",
       "Ticket               0.0  \n",
       "Fare            0.239234  \n",
       "Cabin          78.229665  \n",
       "Embarked             0.0  "
      ]
     },
     "metadata": {},
     "output_type": "display_data"
    }
   ],
   "source": [
    "display(eda.df_info(raw_test))"
   ]
  },
  {
   "cell_type": "markdown",
   "metadata": {},
   "source": [
    "Dataset numerical distributions:"
   ]
  },
  {
   "cell_type": "code",
   "execution_count": 10,
   "metadata": {},
   "outputs": [
    {
     "data": {
      "text/html": [
       "<div>\n",
       "<style scoped>\n",
       "    .dataframe tbody tr th:only-of-type {\n",
       "        vertical-align: middle;\n",
       "    }\n",
       "\n",
       "    .dataframe tbody tr th {\n",
       "        vertical-align: top;\n",
       "    }\n",
       "\n",
       "    .dataframe thead th {\n",
       "        text-align: right;\n",
       "    }\n",
       "</style>\n",
       "<table border=\"1\" class=\"dataframe\">\n",
       "  <thead>\n",
       "    <tr style=\"text-align: right;\">\n",
       "      <th></th>\n",
       "      <th>count</th>\n",
       "      <th>mean</th>\n",
       "      <th>std</th>\n",
       "      <th>min</th>\n",
       "      <th>25%</th>\n",
       "      <th>50%</th>\n",
       "      <th>75%</th>\n",
       "      <th>max</th>\n",
       "    </tr>\n",
       "  </thead>\n",
       "  <tbody>\n",
       "    <tr>\n",
       "      <th>PassengerId</th>\n",
       "      <td>418.0</td>\n",
       "      <td>1100.50</td>\n",
       "      <td>120.81</td>\n",
       "      <td>892.00</td>\n",
       "      <td>996.25</td>\n",
       "      <td>1100.50</td>\n",
       "      <td>1204.75</td>\n",
       "      <td>1309.00</td>\n",
       "    </tr>\n",
       "    <tr>\n",
       "      <th>Pclass</th>\n",
       "      <td>418.0</td>\n",
       "      <td>2.27</td>\n",
       "      <td>0.84</td>\n",
       "      <td>1.00</td>\n",
       "      <td>1.00</td>\n",
       "      <td>3.00</td>\n",
       "      <td>3.00</td>\n",
       "      <td>3.00</td>\n",
       "    </tr>\n",
       "    <tr>\n",
       "      <th>Age</th>\n",
       "      <td>332.0</td>\n",
       "      <td>30.27</td>\n",
       "      <td>14.18</td>\n",
       "      <td>0.17</td>\n",
       "      <td>21.00</td>\n",
       "      <td>27.00</td>\n",
       "      <td>39.00</td>\n",
       "      <td>76.00</td>\n",
       "    </tr>\n",
       "    <tr>\n",
       "      <th>SibSp</th>\n",
       "      <td>418.0</td>\n",
       "      <td>0.45</td>\n",
       "      <td>0.90</td>\n",
       "      <td>0.00</td>\n",
       "      <td>0.00</td>\n",
       "      <td>0.00</td>\n",
       "      <td>1.00</td>\n",
       "      <td>8.00</td>\n",
       "    </tr>\n",
       "    <tr>\n",
       "      <th>Parch</th>\n",
       "      <td>418.0</td>\n",
       "      <td>0.39</td>\n",
       "      <td>0.98</td>\n",
       "      <td>0.00</td>\n",
       "      <td>0.00</td>\n",
       "      <td>0.00</td>\n",
       "      <td>0.00</td>\n",
       "      <td>9.00</td>\n",
       "    </tr>\n",
       "    <tr>\n",
       "      <th>Fare</th>\n",
       "      <td>417.0</td>\n",
       "      <td>35.63</td>\n",
       "      <td>55.91</td>\n",
       "      <td>0.00</td>\n",
       "      <td>7.90</td>\n",
       "      <td>14.45</td>\n",
       "      <td>31.50</td>\n",
       "      <td>512.33</td>\n",
       "    </tr>\n",
       "  </tbody>\n",
       "</table>\n",
       "</div>"
      ],
      "text/plain": [
       "             count     mean     std     min     25%      50%      75%      max\n",
       "PassengerId  418.0  1100.50  120.81  892.00  996.25  1100.50  1204.75  1309.00\n",
       "Pclass       418.0     2.27    0.84    1.00    1.00     3.00     3.00     3.00\n",
       "Age          332.0    30.27   14.18    0.17   21.00    27.00    39.00    76.00\n",
       "SibSp        418.0     0.45    0.90    0.00    0.00     0.00     1.00     8.00\n",
       "Parch        418.0     0.39    0.98    0.00    0.00     0.00     0.00     9.00\n",
       "Fare         417.0    35.63   55.91    0.00    7.90    14.45    31.50   512.33"
      ]
     },
     "metadata": {},
     "output_type": "display_data"
    }
   ],
   "source": [
    "display(round(raw_test.describe().T, 2))"
   ]
  },
  {
   "cell_type": "markdown",
   "metadata": {},
   "source": [
    "Detailed breakdown:"
   ]
  },
  {
   "cell_type": "code",
   "execution_count": 11,
   "metadata": {},
   "outputs": [
    {
     "name": "stderr",
     "output_type": "stream",
     "text": [
      "Summarize dataset: 100%|██████████| 46/46 [00:04<00:00, 10.24it/s, Completed]                       \n",
      "Generate report structure: 100%|██████████| 1/1 [00:05<00:00,  5.57s/it]\n",
      "Render widgets:   0%|          | 0/1 [00:00<?, ?it/s]"
     ]
    },
    {
     "name": "stderr",
     "output_type": "stream",
     "text": [
      "                                                             \r"
     ]
    },
    {
     "data": {
      "application/vnd.jupyter.widget-view+json": {
       "model_id": "07422fca532e49b4952856da69b38e82",
       "version_major": 2,
       "version_minor": 0
      },
      "text/plain": [
       "VBox(children=(Tab(children=(Tab(children=(GridBox(children=(VBox(children=(GridspecLayout(children=(HTML(valu…"
      ]
     },
     "metadata": {},
     "output_type": "display_data"
    }
   ],
   "source": [
    "ProfileReport(raw_test).to_widgets()"
   ]
  },
  {
   "cell_type": "markdown",
   "metadata": {},
   "source": [
    "**A summary of key observations that stand out:**\n",
    "\n",
    "Missing values:\n",
    "1. `Age` has missing values (86), which is approximately 20.6% of the test data. This is slightly higher than in the train dataset, which had about 19.9% missing values for `Age`.\n",
    "2. `Cabin` has a large number of missing values (327), accounting for 78% of the test data, which is in line with the train dataset (77%).\n",
    "3. `Fare` has 1 missing value, which is about 0.24% of the test data. In the train dataset, there were no missing values for Fare.\n",
    "\n",
    "Data distribution:\n",
    "1. The `Age` distribution seems similar, with the median age in the 20s. The mean age is slightly higher in the test set (30.3) compared to the train set (29.7), which could indicate a slightly older passenger demographic in the test set.\n",
    "2. The `Fare` distribution in the test set has a similar range to the train set, but the mean is slightly higher (35.6 in the test set vs. 32.2 in the train set). This might suggest that the test set includes passengers who paid a bit more on average, but the median values are very close (14.5 in both), indicating a similar central tendency.\n",
    "3. `Pclass`, `SibSp`, and `Parch` distributions seem to be consistent between the train and test datasets, indicating that these features have similar spreads and central tendencies.\n",
    "\n",
    "PassengerId:\n",
    "1. `PassengerId` in the test set starts from 892 and goes up to 1309, which suggests that this dataset is a direct continuation of the train dataset `PassengerIds`. \n",
    "\n",
    "Potential Issues for model generalization:\n",
    "1. If the test data has a slightly different distribution from the train data (e.g., a higher average fare or different age distribution), the model trained on the train data might not generalize as well to the test data. It's important to consider these distribution differences when evaluating model performance.\n",
    "2. Given that there's a missing value in `Fare`, it will need to be imputed for the test dataset before making predictions, ideally using a method consistent with how missing values were handled in the training dataset.\n",
    "\n",
    "When preparing to apply a model to this test data, the key is to apply the same preprocessing steps as were used on the train dataset to maintain consistency. This includes handling missing values in `Age`, `Fare`, and `Cabin` in the same manner as the train dataset, and ensuring categorical variables are encoded similarly if a model requires numerical input."
   ]
  },
  {
   "cell_type": "markdown",
   "metadata": {},
   "source": [
    "# Data cleaning and preprocessing\n",
    "\n",
    "As the next step we need to clean and prepare the data for ML. Since the data is already split into train and test, we don't need to worry about data leakage:\n",
    "\n",
    "1. Drop columns which we are not useful for the model: `PassengerID`.\n",
    "2. Set columns to `snake_case` and rename them to be a bit more self explanatory.\n",
    "3. Create additional features using existing columns (e.g.: split names or create age groups).\n",
    "4. Fill-in blanks in `Age` (both `train` and `test`) and `Fare` (`test` only) using standard `KNNImputer`. For `Embarked` in `train` we can do `SimpleImputer` with `most_frequent` setting.\n",
    "5. Standardise numerical features with `StandardScaler`.\n",
    "6. Encode categorical features with `MEstimateEncoder`."
   ]
  },
  {
   "cell_type": "code",
   "execution_count": 22,
   "metadata": {},
   "outputs": [],
   "source": [
    "def preprocess_data(df: pd.DataFrame, columns: list) -> pd.DataFrame:\n",
    "    \"\"\"\n",
    "    Perform preprocessing on Titanic dataset to prepare for machine learning analysis.\n",
    "\n",
    "    The function processes a DataFrame by executing several steps:\n",
    "    - Dropping the 'PassengerId' column as it is not needed for analysis.\n",
    "    - Renaming columns to snake_case for Pythonic consistency.\n",
    "    - Extracting 'ticket_number', 'title', 'surname', and 'first_name' from the 'name' column for further analysis.\n",
    "    - Categorizing 'age' into predefined groups for more granular analysis.\n",
    "    - Computing 'family_size' by adding 'siblibngs_spouses_no' and 'parents_children_no', then adding 1 (for the passenger themself).\n",
    "    - Creating a binary 'is_male' column from the 'sex' column.\n",
    "    - Generating a 'class_sex' interaction feature to capture the interplay between class and gender.\n",
    "    - Retaining only the specified relevant columns for further analysis.\n",
    "    - Converting column data types to ensure proper format for machine learning algorithms.\n",
    "\n",
    "    The 'Survived' column, if present, is maintained and its data type is converted to an integer\n",
    "    for use as a label in classification tasks.\n",
    "\n",
    "    Parameters:\n",
    "    - df (pd.DataFrame): The input DataFrame containing passenger data from the Titanic dataset.\n",
    "    - columns (list): A list of column names that should be kept in the final DataFrame. \n",
    "\n",
    "    Returns:\n",
    "    - pd.DataFrame: A DataFrame with the preprocessing applied, ready for further analysis or as input to machine learning models.\n",
    "    \"\"\"\n",
    "    columns_to_keep = columns.copy()\n",
    "\n",
    "    columns_datatypes = {\n",
    "        'is_male': 'int', 'is_alone': 'int', 'age': 'float',\n",
    "        'siblibngs_spouses_no': 'int', 'parents_children_no': 'int',\n",
    "        # 'ticket_number': 'int', \n",
    "        'fare': 'float'\n",
    "    }\n",
    "    \n",
    "    if 'Survived' in df.columns:\n",
    "        columns_to_keep.append('survived')\n",
    "        columns_datatypes['survived'] = 'int'\n",
    "\n",
    "    df = (\n",
    "        df\n",
    "        .copy()\n",
    "        .drop(['PassengerId'], axis=1)\n",
    "        .rename(columns={\n",
    "            'Pclass': 'ticket_class', 'SibSp': 'siblibngs_spouses_no', 'Parch': 'parents_children_no',\n",
    "        })\n",
    "        .rename(columns=lambda column: snakecase(column))\n",
    "        .assign(\n",
    "            ticket_number=lambda df: df.ticket.str.extract(r'(\\d+$)', expand=False).fillna('0'),\n",
    "            title=lambda df: (\n",
    "                df.name.str.extract(r',\\s*([^\\.]*)\\.', expand=False)\n",
    "                .replace(['Mlle', 'Ms', 'Mme', 'Master'], ['Miss', 'Miss', 'Mrs', 'Mr'])\n",
    "                .replace(['Lady', 'the Countess', 'Capt', 'Col', 'Don', 'Dr', 'Major', 'Rev', 'Sir', 'Jonkheer', 'Dona'], 'Rare')\n",
    "            ),\n",
    "            surname=lambda df: df.name.str.extract(r'(^[\\w\\s]+),', expand=False),\n",
    "            first_name=lambda df: df.name.str.extract(r'\\.\\s+(.*)', expand=False),\n",
    "            age_group=lambda df: pd.cut(\n",
    "                df.age, bins=[0, 10, 20, 40, 60, 100], labels=['child', 'teen', 'adult', 'middle-age', 'senior']\n",
    "            ),\n",
    "            family_size=lambda df: df.siblibngs_spouses_no + df.parents_children_no + 1,\n",
    "            is_alone=lambda df: df.family_size == 1,\n",
    "            is_male=lambda df: df.sex.map({'male': 1, 'female': 0}),\n",
    "            class_sex=lambda df: df.ticket_class * df.is_male\n",
    "        )\n",
    "        .loc[:, columns_to_keep]\n",
    "        .astype(columns_datatypes)\n",
    "    )    \n",
    "    \n",
    "    return df"
   ]
  },
  {
   "cell_type": "markdown",
   "metadata": {},
   "source": [
    "Let's save those datasets into a single variable we are going to be using for ML."
   ]
  },
  {
   "cell_type": "code",
   "execution_count": 38,
   "metadata": {},
   "outputs": [
    {
     "data": {
      "text/html": [
       "<div>\n",
       "<style scoped>\n",
       "    .dataframe tbody tr th:only-of-type {\n",
       "        vertical-align: middle;\n",
       "    }\n",
       "\n",
       "    .dataframe tbody tr th {\n",
       "        vertical-align: top;\n",
       "    }\n",
       "\n",
       "    .dataframe thead th {\n",
       "        text-align: right;\n",
       "    }\n",
       "</style>\n",
       "<table border=\"1\" class=\"dataframe\">\n",
       "  <thead>\n",
       "    <tr style=\"text-align: right;\">\n",
       "      <th></th>\n",
       "      <th>title</th>\n",
       "      <th>age</th>\n",
       "      <th>age_group</th>\n",
       "      <th>is_male</th>\n",
       "      <th>siblibngs_spouses_no</th>\n",
       "      <th>parents_children_no</th>\n",
       "      <th>family_size</th>\n",
       "      <th>is_alone</th>\n",
       "      <th>ticket_class</th>\n",
       "      <th>embarked</th>\n",
       "      <th>fare</th>\n",
       "      <th>class_sex</th>\n",
       "    </tr>\n",
       "  </thead>\n",
       "  <tbody>\n",
       "    <tr>\n",
       "      <th>0</th>\n",
       "      <td>Mr</td>\n",
       "      <td>22.0</td>\n",
       "      <td>adult</td>\n",
       "      <td>1</td>\n",
       "      <td>1</td>\n",
       "      <td>0</td>\n",
       "      <td>2</td>\n",
       "      <td>0</td>\n",
       "      <td>3</td>\n",
       "      <td>S</td>\n",
       "      <td>7.2500</td>\n",
       "      <td>3</td>\n",
       "    </tr>\n",
       "    <tr>\n",
       "      <th>1</th>\n",
       "      <td>Mrs</td>\n",
       "      <td>38.0</td>\n",
       "      <td>adult</td>\n",
       "      <td>0</td>\n",
       "      <td>1</td>\n",
       "      <td>0</td>\n",
       "      <td>2</td>\n",
       "      <td>0</td>\n",
       "      <td>1</td>\n",
       "      <td>C</td>\n",
       "      <td>71.2833</td>\n",
       "      <td>0</td>\n",
       "    </tr>\n",
       "    <tr>\n",
       "      <th>2</th>\n",
       "      <td>Miss</td>\n",
       "      <td>26.0</td>\n",
       "      <td>adult</td>\n",
       "      <td>0</td>\n",
       "      <td>0</td>\n",
       "      <td>0</td>\n",
       "      <td>1</td>\n",
       "      <td>1</td>\n",
       "      <td>3</td>\n",
       "      <td>S</td>\n",
       "      <td>7.9250</td>\n",
       "      <td>0</td>\n",
       "    </tr>\n",
       "    <tr>\n",
       "      <th>3</th>\n",
       "      <td>Mrs</td>\n",
       "      <td>35.0</td>\n",
       "      <td>adult</td>\n",
       "      <td>0</td>\n",
       "      <td>1</td>\n",
       "      <td>0</td>\n",
       "      <td>2</td>\n",
       "      <td>0</td>\n",
       "      <td>1</td>\n",
       "      <td>S</td>\n",
       "      <td>53.1000</td>\n",
       "      <td>0</td>\n",
       "    </tr>\n",
       "    <tr>\n",
       "      <th>4</th>\n",
       "      <td>Mr</td>\n",
       "      <td>35.0</td>\n",
       "      <td>adult</td>\n",
       "      <td>1</td>\n",
       "      <td>0</td>\n",
       "      <td>0</td>\n",
       "      <td>1</td>\n",
       "      <td>1</td>\n",
       "      <td>3</td>\n",
       "      <td>S</td>\n",
       "      <td>8.0500</td>\n",
       "      <td>3</td>\n",
       "    </tr>\n",
       "  </tbody>\n",
       "</table>\n",
       "</div>"
      ],
      "text/plain": [
       "  title   age age_group  is_male  siblibngs_spouses_no  parents_children_no  \\\n",
       "0    Mr  22.0     adult        1                     1                    0   \n",
       "1   Mrs  38.0     adult        0                     1                    0   \n",
       "2  Miss  26.0     adult        0                     0                    0   \n",
       "3   Mrs  35.0     adult        0                     1                    0   \n",
       "4    Mr  35.0     adult        1                     0                    0   \n",
       "\n",
       "   family_size  is_alone  ticket_class embarked     fare  class_sex  \n",
       "0            2         0             3        S   7.2500          3  \n",
       "1            2         0             1        C  71.2833          0  \n",
       "2            1         1             3        S   7.9250          0  \n",
       "3            2         0             1        S  53.1000          0  \n",
       "4            1         1             3        S   8.0500          3  "
      ]
     },
     "metadata": {},
     "output_type": "display_data"
    }
   ],
   "source": [
    "columns_to_keep = [\n",
    "    'title', # 'first_name', 'surname', \n",
    "    'age', 'age_group', 'is_male',\n",
    "    'siblibngs_spouses_no', 'parents_children_no', 'family_size', 'is_alone',\n",
    "    # 'ticket_number', \n",
    "    'ticket_class', 'embarked', 'fare', 'class_sex'\n",
    "]\n",
    "\n",
    "dct_splits = {\n",
    "    'train': {\n",
    "        'features': preprocess_data(raw_train, columns_to_keep).drop('survived', axis=1),\n",
    "        'target': preprocess_data(raw_train, columns_to_keep)[['survived']]\n",
    "    },\n",
    "    'test': {\n",
    "        'features': preprocess_data(raw_test, columns_to_keep)\n",
    "    }\n",
    "}\n",
    "\n",
    "display(dct_splits['train']['features'].head())"
   ]
  },
  {
   "cell_type": "markdown",
   "metadata": {},
   "source": [
    "Now we can impute missing values, scale numerical values and encode category values."
   ]
  },
  {
   "cell_type": "code",
   "execution_count": 39,
   "metadata": {},
   "outputs": [
    {
     "data": {
      "text/html": [
       "<div>\n",
       "<style scoped>\n",
       "    .dataframe tbody tr th:only-of-type {\n",
       "        vertical-align: middle;\n",
       "    }\n",
       "\n",
       "    .dataframe tbody tr th {\n",
       "        vertical-align: top;\n",
       "    }\n",
       "\n",
       "    .dataframe thead th {\n",
       "        text-align: right;\n",
       "    }\n",
       "</style>\n",
       "<table border=\"1\" class=\"dataframe\">\n",
       "  <thead>\n",
       "    <tr style=\"text-align: right;\">\n",
       "      <th></th>\n",
       "      <th>title</th>\n",
       "      <th>age</th>\n",
       "      <th>age_group</th>\n",
       "      <th>is_male</th>\n",
       "      <th>siblibngs_spouses_no</th>\n",
       "      <th>parents_children_no</th>\n",
       "      <th>family_size</th>\n",
       "      <th>is_alone</th>\n",
       "      <th>ticket_class</th>\n",
       "      <th>embarked</th>\n",
       "      <th>fare</th>\n",
       "      <th>class_sex</th>\n",
       "    </tr>\n",
       "  </thead>\n",
       "  <tbody>\n",
       "    <tr>\n",
       "      <th>0</th>\n",
       "      <td>-0.572142</td>\n",
       "      <td>-0.502445</td>\n",
       "      <td>0.339079</td>\n",
       "      <td>0.187068</td>\n",
       "      <td>0.364803</td>\n",
       "      <td>1.0</td>\n",
       "      <td>1.0</td>\n",
       "      <td>0.0</td>\n",
       "      <td>2.0</td>\n",
       "      <td>0.0</td>\n",
       "      <td>3.0</td>\n",
       "      <td>3.0</td>\n",
       "    </tr>\n",
       "    <tr>\n",
       "      <th>1</th>\n",
       "      <td>0.626331</td>\n",
       "      <td>0.786845</td>\n",
       "      <td>0.552567</td>\n",
       "      <td>0.790424</td>\n",
       "      <td>0.364803</td>\n",
       "      <td>0.0</td>\n",
       "      <td>1.0</td>\n",
       "      <td>0.0</td>\n",
       "      <td>2.0</td>\n",
       "      <td>0.0</td>\n",
       "      <td>1.0</td>\n",
       "      <td>0.0</td>\n",
       "    </tr>\n",
       "    <tr>\n",
       "      <th>2</th>\n",
       "      <td>-0.272524</td>\n",
       "      <td>-0.488854</td>\n",
       "      <td>0.339079</td>\n",
       "      <td>0.700988</td>\n",
       "      <td>0.364803</td>\n",
       "      <td>0.0</td>\n",
       "      <td>0.0</td>\n",
       "      <td>0.0</td>\n",
       "      <td>1.0</td>\n",
       "      <td>1.0</td>\n",
       "      <td>3.0</td>\n",
       "      <td>0.0</td>\n",
       "    </tr>\n",
       "    <tr>\n",
       "      <th>3</th>\n",
       "      <td>0.401618</td>\n",
       "      <td>0.420730</td>\n",
       "      <td>0.339079</td>\n",
       "      <td>0.790424</td>\n",
       "      <td>0.364803</td>\n",
       "      <td>0.0</td>\n",
       "      <td>1.0</td>\n",
       "      <td>0.0</td>\n",
       "      <td>2.0</td>\n",
       "      <td>0.0</td>\n",
       "      <td>1.0</td>\n",
       "      <td>0.0</td>\n",
       "    </tr>\n",
       "    <tr>\n",
       "      <th>4</th>\n",
       "      <td>0.401618</td>\n",
       "      <td>-0.486337</td>\n",
       "      <td>0.339079</td>\n",
       "      <td>0.187068</td>\n",
       "      <td>0.364803</td>\n",
       "      <td>1.0</td>\n",
       "      <td>0.0</td>\n",
       "      <td>0.0</td>\n",
       "      <td>1.0</td>\n",
       "      <td>1.0</td>\n",
       "      <td>3.0</td>\n",
       "      <td>3.0</td>\n",
       "    </tr>\n",
       "  </tbody>\n",
       "</table>\n",
       "</div>"
      ],
      "text/plain": [
       "      title       age  age_group   is_male  siblibngs_spouses_no  \\\n",
       "0 -0.572142 -0.502445   0.339079  0.187068              0.364803   \n",
       "1  0.626331  0.786845   0.552567  0.790424              0.364803   \n",
       "2 -0.272524 -0.488854   0.339079  0.700988              0.364803   \n",
       "3  0.401618  0.420730   0.339079  0.790424              0.364803   \n",
       "4  0.401618 -0.486337   0.339079  0.187068              0.364803   \n",
       "\n",
       "   parents_children_no  family_size  is_alone  ticket_class  embarked  fare  \\\n",
       "0                  1.0          1.0       0.0           2.0       0.0   3.0   \n",
       "1                  0.0          1.0       0.0           2.0       0.0   1.0   \n",
       "2                  0.0          0.0       0.0           1.0       1.0   3.0   \n",
       "3                  0.0          1.0       0.0           2.0       0.0   1.0   \n",
       "4                  1.0          0.0       0.0           1.0       1.0   3.0   \n",
       "\n",
       "   class_sex  \n",
       "0        3.0  \n",
       "1        0.0  \n",
       "2        0.0  \n",
       "3        0.0  \n",
       "4        3.0  "
      ]
     },
     "metadata": {},
     "output_type": "display_data"
    }
   ],
   "source": [
    "numerical_transformer = Pipeline(steps=[\n",
    "    ('imputer', KNNImputer()),\n",
    "    ('scaler', StandardScaler())\n",
    "])\n",
    "\n",
    "categorical_transformer = Pipeline(steps=[\n",
    "    ('imputer', SimpleImputer(strategy='most_frequent')),\n",
    "    ('encoder', MEstimateEncoder())\n",
    "])\n",
    "\n",
    "preprocessor = ColumnTransformer(\n",
    "    transformers=[\n",
    "        ('num', numerical_transformer, ['age', 'fare']),\n",
    "        ('cat', categorical_transformer, ['embarked', 'title', 'age_group'])\n",
    "    ],\n",
    "    remainder='passthrough'\n",
    ")\n",
    "\n",
    "pipeline = Pipeline([\n",
    "    ('preprocessor', preprocessor),\n",
    "])\n",
    "\n",
    "pipeline.fit(\n",
    "    dct_splits['train']['features'],\n",
    "    dct_splits['train']['target']\n",
    ")\n",
    "\n",
    "dct_splits['train']['features'] = pd.DataFrame(\n",
    "    pipeline.transform(dct_splits['train']['features']), columns=columns_to_keep\n",
    ")\n",
    "dct_splits['test']['features'] = pd.DataFrame(\n",
    "    pipeline.transform(dct_splits['test']['features']), columns=columns_to_keep\n",
    ")\n",
    "\n",
    "display(dct_splits['train']['features'].head())"
   ]
  },
  {
   "cell_type": "markdown",
   "metadata": {},
   "source": [
    "# Model selection and training\n",
    "\n",
    "In this section we will go thorugh `LogisticRegression`, `DecisionTreeClassifier`, `LGBMClassifier` and `CatBoostClassifier` and evaluate their peformance. We will use `optuna` to optimise the hyperparameters.\n",
    "\n",
    "Let's create a function that will handle the results for us."
   ]
  },
  {
   "cell_type": "code",
   "execution_count": 59,
   "metadata": {},
   "outputs": [],
   "source": [
    "def optimize_classifiers(ftr_train, tgt_train, n_trials: int):\n",
    "    \"\"\"\n",
    "    Trains and optimizes classification models using Optuna.\n",
    "\n",
    "    Args:\n",
    "    - ftr_train (pd.DataFrame): Training features.\n",
    "    - tgt_train (pd.Series): Training target.\n",
    "    - n_trials (int): The number of trials for Optuna optimization.\n",
    "\n",
    "    Returns:\n",
    "    - An Optuna study object containing the optimal model and its parameters.\n",
    "    \"\"\"\n",
    "    def get_classifier(trial):\n",
    "        classifiers = {\n",
    "            'LogisticRegression': LogisticRegression(\n",
    "                penalty=trial.suggest_categorical('lr_penalty', ['l1', 'l2']),\n",
    "                C=trial.suggest_float('lr_C', 0.1, 10.0),\n",
    "                solver='liblinear',\n",
    "                random_state=RANDOM_SEED\n",
    "            ),\n",
    "            'DecisionTreeClassifier': DecisionTreeClassifier(\n",
    "                max_depth=trial.suggest_int('dt_max_depth', 1, 32),\n",
    "                min_samples_split=trial.suggest_int('dt_min_samples_split', 2, 150),\n",
    "                random_state=RANDOM_SEED\n",
    "            ),\n",
    "            'LGBMClassifier': LGBMClassifier(\n",
    "                max_depth=trial.suggest_int('lgbm_max_depth', 1, 50),\n",
    "                n_estimators=trial.suggest_int('lgbm_n_estimators', 100, 1000),\n",
    "                learning_rate=trial.suggest_float('lgbm_learning_rate', 0.01, 0.3),\n",
    "                random_state=RANDOM_SEED\n",
    "            ),\n",
    "            'CatBoostClassifier': CatBoostClassifier(\n",
    "                iterations=trial.suggest_int('cb_iterations', 100, 1000),\n",
    "                learning_rate=trial.suggest_float('cb_learning_rate', 0.01, 0.3),\n",
    "                depth=trial.suggest_int('cb_depth', 1, 10),\n",
    "                silent=True,\n",
    "                random_state=RANDOM_SEED\n",
    "            )\n",
    "        }\n",
    "        classifier_name = trial.suggest_categorical('classifier', list(classifiers.keys()))\n",
    "        return classifiers[classifier_name]\n",
    "\n",
    "    def objective(trial):\n",
    "        \"\"\"\n",
    "        Objective function for Optuna optimization. Computes the accuracy for a given classifier.\n",
    "\n",
    "        Args:\n",
    "        - trial (optuna.Trial):  A trial is a process of evaluating an objective function. This object\n",
    "        is passed to an objective function and provides interfaces to suggest hyperparameters.\n",
    "\n",
    "        Returns:\n",
    "        - float: Accuracy of the classifier's predictions.\n",
    "        \"\"\"\n",
    "        classifier_obj = get_classifier(trial)\n",
    "        score = cross_val_score(classifier_obj, ftr_train, tgt_train, n_jobs=-1, cv=3, scoring='accuracy').mean()\n",
    "        return score\n",
    "\n",
    "    optuna.logging.set_verbosity(optuna.logging.WARNING)\n",
    "    study = optuna.create_study(direction='maximize')\n",
    "    study.optimize(objective, n_trials=n_trials)\n",
    "\n",
    "    return study"
   ]
  },
  {
   "cell_type": "markdown",
   "metadata": {},
   "source": [
    "Let's find the best classifier."
   ]
  },
  {
   "cell_type": "code",
   "execution_count": 63,
   "metadata": {},
   "outputs": [],
   "source": [
    "study = optimize_classifiers(\n",
    "    dct_splits['train']['features'],\n",
    "    dct_splits['train']['target'],\n",
    "    n_trials=20\n",
    ")"
   ]
  },
  {
   "cell_type": "markdown",
   "metadata": {},
   "source": [
    "And check its parameters."
   ]
  },
  {
   "cell_type": "code",
   "execution_count": 65,
   "metadata": {},
   "outputs": [
    {
     "name": "stdout",
     "output_type": "stream",
     "text": [
      "Best params:\n",
      "  cb_iterations: 227\n",
      "  cb_learning_rate: 0.015378802810271684\n",
      "  cb_depth: 5\n",
      "  classifier: CatBoostClassifier\n"
     ]
    }
   ],
   "source": [
    "best_params = study.best_params\n",
    "classifier_name = best_params['classifier']\n",
    "\n",
    "param_prefixes = {\n",
    "    'LogisticRegression': 'lr_',\n",
    "    'DecisionTreeClassifier': 'dt_',\n",
    "    'LGBMClassifier': 'lgbm_',\n",
    "    'CatBoostClassifier': 'cb_'\n",
    "}\n",
    "\n",
    "# Filter the best_params to only include relevant parameters for the selected classifier\n",
    "relevant_params = {k: v for k, v in best_params.items() if k.startswith(param_prefixes[classifier_name]) or k == 'classifier'}\n",
    "\n",
    "formatted_params = \"\\n\".join([f\"  {key}: {value}\" for key, value in relevant_params.items()])\n",
    "print(f\"Best params:\\n{formatted_params}\")"
   ]
  },
  {
   "cell_type": "markdown",
   "metadata": {},
   "source": [
    "The plots below will also show how models were optimised and which model performed best."
   ]
  },
  {
   "cell_type": "code",
   "execution_count": 66,
   "metadata": {},
   "outputs": [
    {
     "data": {
      "application/vnd.plotly.v1+json": {
       "config": {
        "plotlyServerURL": "https://plot.ly"
       },
       "data": [
        {
         "mode": "markers",
         "name": "Objective Value",
         "type": "scatter",
         "x": [
          0,
          1,
          2,
          3,
          4,
          5,
          6,
          7,
          8,
          9,
          10,
          11,
          12,
          13,
          14,
          15,
          16,
          17,
          18,
          19
         ],
         "y": [
          0.7845117845117845,
          0.8114478114478114,
          0.7923681257014591,
          0.7901234567901234,
          0.7890011223344556,
          0.7923681257014591,
          0.7811447811447811,
          0.7744107744107743,
          0.8002244668911335,
          0.8002244668911335,
          0.7890011223344557,
          0.7856341189674523,
          0.8035914702581369,
          0.8035914702581369,
          0.8114478114478114,
          0.8080808080808081,
          0.8103254769921436,
          0.8170594837261503,
          0.8058361391694725,
          0.8237934904601572
         ]
        },
        {
         "name": "Best Value",
         "type": "scatter",
         "x": [
          0,
          1,
          2,
          3,
          4,
          5,
          6,
          7,
          8,
          9,
          10,
          11,
          12,
          13,
          14,
          15,
          16,
          17,
          18,
          19
         ],
         "y": [
          0.7845117845117845,
          0.8114478114478114,
          0.8114478114478114,
          0.8114478114478114,
          0.8114478114478114,
          0.8114478114478114,
          0.8114478114478114,
          0.8114478114478114,
          0.8114478114478114,
          0.8114478114478114,
          0.8114478114478114,
          0.8114478114478114,
          0.8114478114478114,
          0.8114478114478114,
          0.8114478114478114,
          0.8114478114478114,
          0.8114478114478114,
          0.8170594837261503,
          0.8170594837261503,
          0.8237934904601572
         ]
        }
       ],
       "layout": {
        "height": 500,
        "legend": {
         "orientation": "h"
        },
        "template": {
         "data": {
          "bar": [
           {
            "error_x": {
             "color": "#2a3f5f"
            },
            "error_y": {
             "color": "#2a3f5f"
            },
            "marker": {
             "line": {
              "color": "white",
              "width": 0.5
             },
             "pattern": {
              "fillmode": "overlay",
              "size": 10,
              "solidity": 0.2
             }
            },
            "type": "bar"
           }
          ],
          "barpolar": [
           {
            "marker": {
             "line": {
              "color": "white",
              "width": 0.5
             },
             "pattern": {
              "fillmode": "overlay",
              "size": 10,
              "solidity": 0.2
             }
            },
            "type": "barpolar"
           }
          ],
          "carpet": [
           {
            "aaxis": {
             "endlinecolor": "#2a3f5f",
             "gridcolor": "#C8D4E3",
             "linecolor": "#C8D4E3",
             "minorgridcolor": "#C8D4E3",
             "startlinecolor": "#2a3f5f"
            },
            "baxis": {
             "endlinecolor": "#2a3f5f",
             "gridcolor": "#C8D4E3",
             "linecolor": "#C8D4E3",
             "minorgridcolor": "#C8D4E3",
             "startlinecolor": "#2a3f5f"
            },
            "type": "carpet"
           }
          ],
          "choropleth": [
           {
            "colorbar": {
             "outlinewidth": 0,
             "ticks": ""
            },
            "type": "choropleth"
           }
          ],
          "contour": [
           {
            "colorbar": {
             "outlinewidth": 0,
             "ticks": ""
            },
            "colorscale": [
             [
              0,
              "#0d0887"
             ],
             [
              0.1111111111111111,
              "#46039f"
             ],
             [
              0.2222222222222222,
              "#7201a8"
             ],
             [
              0.3333333333333333,
              "#9c179e"
             ],
             [
              0.4444444444444444,
              "#bd3786"
             ],
             [
              0.5555555555555556,
              "#d8576b"
             ],
             [
              0.6666666666666666,
              "#ed7953"
             ],
             [
              0.7777777777777778,
              "#fb9f3a"
             ],
             [
              0.8888888888888888,
              "#fdca26"
             ],
             [
              1,
              "#f0f921"
             ]
            ],
            "type": "contour"
           }
          ],
          "contourcarpet": [
           {
            "colorbar": {
             "outlinewidth": 0,
             "ticks": ""
            },
            "type": "contourcarpet"
           }
          ],
          "heatmap": [
           {
            "colorbar": {
             "outlinewidth": 0,
             "ticks": ""
            },
            "colorscale": [
             [
              0,
              "#0d0887"
             ],
             [
              0.1111111111111111,
              "#46039f"
             ],
             [
              0.2222222222222222,
              "#7201a8"
             ],
             [
              0.3333333333333333,
              "#9c179e"
             ],
             [
              0.4444444444444444,
              "#bd3786"
             ],
             [
              0.5555555555555556,
              "#d8576b"
             ],
             [
              0.6666666666666666,
              "#ed7953"
             ],
             [
              0.7777777777777778,
              "#fb9f3a"
             ],
             [
              0.8888888888888888,
              "#fdca26"
             ],
             [
              1,
              "#f0f921"
             ]
            ],
            "type": "heatmap"
           }
          ],
          "heatmapgl": [
           {
            "colorbar": {
             "outlinewidth": 0,
             "ticks": ""
            },
            "colorscale": [
             [
              0,
              "#0d0887"
             ],
             [
              0.1111111111111111,
              "#46039f"
             ],
             [
              0.2222222222222222,
              "#7201a8"
             ],
             [
              0.3333333333333333,
              "#9c179e"
             ],
             [
              0.4444444444444444,
              "#bd3786"
             ],
             [
              0.5555555555555556,
              "#d8576b"
             ],
             [
              0.6666666666666666,
              "#ed7953"
             ],
             [
              0.7777777777777778,
              "#fb9f3a"
             ],
             [
              0.8888888888888888,
              "#fdca26"
             ],
             [
              1,
              "#f0f921"
             ]
            ],
            "type": "heatmapgl"
           }
          ],
          "histogram": [
           {
            "marker": {
             "pattern": {
              "fillmode": "overlay",
              "size": 10,
              "solidity": 0.2
             }
            },
            "type": "histogram"
           }
          ],
          "histogram2d": [
           {
            "colorbar": {
             "outlinewidth": 0,
             "ticks": ""
            },
            "colorscale": [
             [
              0,
              "#0d0887"
             ],
             [
              0.1111111111111111,
              "#46039f"
             ],
             [
              0.2222222222222222,
              "#7201a8"
             ],
             [
              0.3333333333333333,
              "#9c179e"
             ],
             [
              0.4444444444444444,
              "#bd3786"
             ],
             [
              0.5555555555555556,
              "#d8576b"
             ],
             [
              0.6666666666666666,
              "#ed7953"
             ],
             [
              0.7777777777777778,
              "#fb9f3a"
             ],
             [
              0.8888888888888888,
              "#fdca26"
             ],
             [
              1,
              "#f0f921"
             ]
            ],
            "type": "histogram2d"
           }
          ],
          "histogram2dcontour": [
           {
            "colorbar": {
             "outlinewidth": 0,
             "ticks": ""
            },
            "colorscale": [
             [
              0,
              "#0d0887"
             ],
             [
              0.1111111111111111,
              "#46039f"
             ],
             [
              0.2222222222222222,
              "#7201a8"
             ],
             [
              0.3333333333333333,
              "#9c179e"
             ],
             [
              0.4444444444444444,
              "#bd3786"
             ],
             [
              0.5555555555555556,
              "#d8576b"
             ],
             [
              0.6666666666666666,
              "#ed7953"
             ],
             [
              0.7777777777777778,
              "#fb9f3a"
             ],
             [
              0.8888888888888888,
              "#fdca26"
             ],
             [
              1,
              "#f0f921"
             ]
            ],
            "type": "histogram2dcontour"
           }
          ],
          "mesh3d": [
           {
            "colorbar": {
             "outlinewidth": 0,
             "ticks": ""
            },
            "type": "mesh3d"
           }
          ],
          "parcoords": [
           {
            "line": {
             "colorbar": {
              "outlinewidth": 0,
              "ticks": ""
             }
            },
            "type": "parcoords"
           }
          ],
          "pie": [
           {
            "automargin": true,
            "type": "pie"
           }
          ],
          "scatter": [
           {
            "fillpattern": {
             "fillmode": "overlay",
             "size": 10,
             "solidity": 0.2
            },
            "type": "scatter"
           }
          ],
          "scatter3d": [
           {
            "line": {
             "colorbar": {
              "outlinewidth": 0,
              "ticks": ""
             }
            },
            "marker": {
             "colorbar": {
              "outlinewidth": 0,
              "ticks": ""
             }
            },
            "type": "scatter3d"
           }
          ],
          "scattercarpet": [
           {
            "marker": {
             "colorbar": {
              "outlinewidth": 0,
              "ticks": ""
             }
            },
            "type": "scattercarpet"
           }
          ],
          "scattergeo": [
           {
            "marker": {
             "colorbar": {
              "outlinewidth": 0,
              "ticks": ""
             }
            },
            "type": "scattergeo"
           }
          ],
          "scattergl": [
           {
            "marker": {
             "colorbar": {
              "outlinewidth": 0,
              "ticks": ""
             }
            },
            "type": "scattergl"
           }
          ],
          "scattermapbox": [
           {
            "marker": {
             "colorbar": {
              "outlinewidth": 0,
              "ticks": ""
             }
            },
            "type": "scattermapbox"
           }
          ],
          "scatterpolar": [
           {
            "marker": {
             "colorbar": {
              "outlinewidth": 0,
              "ticks": ""
             }
            },
            "type": "scatterpolar"
           }
          ],
          "scatterpolargl": [
           {
            "marker": {
             "colorbar": {
              "outlinewidth": 0,
              "ticks": ""
             }
            },
            "type": "scatterpolargl"
           }
          ],
          "scatterternary": [
           {
            "marker": {
             "colorbar": {
              "outlinewidth": 0,
              "ticks": ""
             }
            },
            "type": "scatterternary"
           }
          ],
          "surface": [
           {
            "colorbar": {
             "outlinewidth": 0,
             "ticks": ""
            },
            "colorscale": [
             [
              0,
              "#0d0887"
             ],
             [
              0.1111111111111111,
              "#46039f"
             ],
             [
              0.2222222222222222,
              "#7201a8"
             ],
             [
              0.3333333333333333,
              "#9c179e"
             ],
             [
              0.4444444444444444,
              "#bd3786"
             ],
             [
              0.5555555555555556,
              "#d8576b"
             ],
             [
              0.6666666666666666,
              "#ed7953"
             ],
             [
              0.7777777777777778,
              "#fb9f3a"
             ],
             [
              0.8888888888888888,
              "#fdca26"
             ],
             [
              1,
              "#f0f921"
             ]
            ],
            "type": "surface"
           }
          ],
          "table": [
           {
            "cells": {
             "fill": {
              "color": "#EBF0F8"
             },
             "line": {
              "color": "white"
             }
            },
            "header": {
             "fill": {
              "color": "#C8D4E3"
             },
             "line": {
              "color": "white"
             }
            },
            "type": "table"
           }
          ]
         },
         "layout": {
          "annotationdefaults": {
           "arrowcolor": "#2a3f5f",
           "arrowhead": 0,
           "arrowwidth": 1
          },
          "autotypenumbers": "strict",
          "coloraxis": {
           "colorbar": {
            "outlinewidth": 0,
            "ticks": ""
           }
          },
          "colorscale": {
           "diverging": [
            [
             0,
             "#8e0152"
            ],
            [
             0.1,
             "#c51b7d"
            ],
            [
             0.2,
             "#de77ae"
            ],
            [
             0.3,
             "#f1b6da"
            ],
            [
             0.4,
             "#fde0ef"
            ],
            [
             0.5,
             "#f7f7f7"
            ],
            [
             0.6,
             "#e6f5d0"
            ],
            [
             0.7,
             "#b8e186"
            ],
            [
             0.8,
             "#7fbc41"
            ],
            [
             0.9,
             "#4d9221"
            ],
            [
             1,
             "#276419"
            ]
           ],
           "sequential": [
            [
             0,
             "#0d0887"
            ],
            [
             0.1111111111111111,
             "#46039f"
            ],
            [
             0.2222222222222222,
             "#7201a8"
            ],
            [
             0.3333333333333333,
             "#9c179e"
            ],
            [
             0.4444444444444444,
             "#bd3786"
            ],
            [
             0.5555555555555556,
             "#d8576b"
            ],
            [
             0.6666666666666666,
             "#ed7953"
            ],
            [
             0.7777777777777778,
             "#fb9f3a"
            ],
            [
             0.8888888888888888,
             "#fdca26"
            ],
            [
             1,
             "#f0f921"
            ]
           ],
           "sequentialminus": [
            [
             0,
             "#0d0887"
            ],
            [
             0.1111111111111111,
             "#46039f"
            ],
            [
             0.2222222222222222,
             "#7201a8"
            ],
            [
             0.3333333333333333,
             "#9c179e"
            ],
            [
             0.4444444444444444,
             "#bd3786"
            ],
            [
             0.5555555555555556,
             "#d8576b"
            ],
            [
             0.6666666666666666,
             "#ed7953"
            ],
            [
             0.7777777777777778,
             "#fb9f3a"
            ],
            [
             0.8888888888888888,
             "#fdca26"
            ],
            [
             1,
             "#f0f921"
            ]
           ]
          },
          "colorway": [
           "#636efa",
           "#EF553B",
           "#00cc96",
           "#ab63fa",
           "#FFA15A",
           "#19d3f3",
           "#FF6692",
           "#B6E880",
           "#FF97FF",
           "#FECB52"
          ],
          "font": {
           "color": "#2a3f5f"
          },
          "geo": {
           "bgcolor": "white",
           "lakecolor": "white",
           "landcolor": "white",
           "showlakes": true,
           "showland": true,
           "subunitcolor": "#C8D4E3"
          },
          "hoverlabel": {
           "align": "left"
          },
          "hovermode": "closest",
          "mapbox": {
           "style": "light"
          },
          "paper_bgcolor": "white",
          "plot_bgcolor": "white",
          "polar": {
           "angularaxis": {
            "gridcolor": "#EBF0F8",
            "linecolor": "#EBF0F8",
            "ticks": ""
           },
           "bgcolor": "white",
           "radialaxis": {
            "gridcolor": "#EBF0F8",
            "linecolor": "#EBF0F8",
            "ticks": ""
           }
          },
          "scene": {
           "xaxis": {
            "backgroundcolor": "white",
            "gridcolor": "#DFE8F3",
            "gridwidth": 2,
            "linecolor": "#EBF0F8",
            "showbackground": true,
            "ticks": "",
            "zerolinecolor": "#EBF0F8"
           },
           "yaxis": {
            "backgroundcolor": "white",
            "gridcolor": "#DFE8F3",
            "gridwidth": 2,
            "linecolor": "#EBF0F8",
            "showbackground": true,
            "ticks": "",
            "zerolinecolor": "#EBF0F8"
           },
           "zaxis": {
            "backgroundcolor": "white",
            "gridcolor": "#DFE8F3",
            "gridwidth": 2,
            "linecolor": "#EBF0F8",
            "showbackground": true,
            "ticks": "",
            "zerolinecolor": "#EBF0F8"
           }
          },
          "shapedefaults": {
           "line": {
            "color": "#2a3f5f"
           }
          },
          "ternary": {
           "aaxis": {
            "gridcolor": "#DFE8F3",
            "linecolor": "#A2B1C6",
            "ticks": ""
           },
           "baxis": {
            "gridcolor": "#DFE8F3",
            "linecolor": "#A2B1C6",
            "ticks": ""
           },
           "bgcolor": "white",
           "caxis": {
            "gridcolor": "#DFE8F3",
            "linecolor": "#A2B1C6",
            "ticks": ""
           }
          },
          "title": {
           "x": 0.05
          },
          "xaxis": {
           "automargin": true,
           "gridcolor": "#EBF0F8",
           "linecolor": "#EBF0F8",
           "ticks": "",
           "title": {
            "standoff": 15
           },
           "zerolinecolor": "#EBF0F8",
           "zerolinewidth": 2
          },
          "yaxis": {
           "automargin": true,
           "gridcolor": "#EBF0F8",
           "linecolor": "#EBF0F8",
           "ticks": "",
           "title": {
            "standoff": 15
           },
           "zerolinecolor": "#EBF0F8",
           "zerolinewidth": 2
          }
         }
        },
        "title": {
         "text": "Optimization History Plot"
        },
        "width": 900,
        "xaxis": {
         "title": {
          "text": "Trial"
         }
        },
        "yaxis": {
         "title": {
          "text": "Objective Value"
         }
        }
       }
      }
     },
     "metadata": {},
     "output_type": "display_data"
    },
    {
     "data": {
      "application/vnd.plotly.v1+json": {
       "config": {
        "plotlyServerURL": "https://plot.ly"
       },
       "data": [
        {
         "marker": {
          "color": [
           0,
           1,
           2,
           3,
           4,
           5,
           6,
           7,
           8,
           9,
           10,
           11,
           12,
           13,
           14,
           15,
           16,
           17,
           18,
           19
          ],
          "colorbar": {
           "title": {
            "text": "Trial"
           },
           "x": 1,
           "xpad": 40
          },
          "colorscale": [
           [
            0,
            "rgb(247,251,255)"
           ],
           [
            0.125,
            "rgb(222,235,247)"
           ],
           [
            0.25,
            "rgb(198,219,239)"
           ],
           [
            0.375,
            "rgb(158,202,225)"
           ],
           [
            0.5,
            "rgb(107,174,214)"
           ],
           [
            0.625,
            "rgb(66,146,198)"
           ],
           [
            0.75,
            "rgb(33,113,181)"
           ],
           [
            0.875,
            "rgb(8,81,156)"
           ],
           [
            1,
            "rgb(8,48,107)"
           ]
          ],
          "line": {
           "color": "Grey",
           "width": 0.5
          },
          "showscale": true
         },
         "mode": "markers",
         "showlegend": false,
         "type": "scatter",
         "x": [
          8,
          2,
          8,
          8,
          10,
          4,
          10,
          5,
          9,
          10,
          1,
          1,
          3,
          3,
          3,
          2,
          6,
          5,
          6,
          5
         ],
         "xaxis": "x",
         "y": [
          0.7845117845117845,
          0.8114478114478114,
          0.7923681257014591,
          0.7901234567901234,
          0.7890011223344556,
          0.7923681257014591,
          0.7811447811447811,
          0.7744107744107743,
          0.8002244668911335,
          0.8002244668911335,
          0.7890011223344557,
          0.7856341189674523,
          0.8035914702581369,
          0.8035914702581369,
          0.8114478114478114,
          0.8080808080808081,
          0.8103254769921436,
          0.8170594837261503,
          0.8058361391694725,
          0.8237934904601572
         ],
         "yaxis": "y"
        },
        {
         "marker": {
          "color": [
           0,
           1,
           2,
           3,
           4,
           5,
           6,
           7,
           8,
           9,
           10,
           11,
           12,
           13,
           14,
           15,
           16,
           17,
           18,
           19
          ],
          "colorbar": {
           "title": {
            "text": "Trial"
           },
           "x": 1,
           "xpad": 40
          },
          "colorscale": [
           [
            0,
            "rgb(247,251,255)"
           ],
           [
            0.125,
            "rgb(222,235,247)"
           ],
           [
            0.25,
            "rgb(198,219,239)"
           ],
           [
            0.375,
            "rgb(158,202,225)"
           ],
           [
            0.5,
            "rgb(107,174,214)"
           ],
           [
            0.625,
            "rgb(66,146,198)"
           ],
           [
            0.75,
            "rgb(33,113,181)"
           ],
           [
            0.875,
            "rgb(8,81,156)"
           ],
           [
            1,
            "rgb(8,48,107)"
           ]
          ],
          "line": {
           "color": "Grey",
           "width": 0.5
          },
          "showscale": false
         },
         "mode": "markers",
         "showlegend": false,
         "type": "scatter",
         "x": [
          655,
          131,
          499,
          817,
          866,
          653,
          145,
          251,
          616,
          536,
          347,
          362,
          979,
          990,
          104,
          117,
          243,
          225,
          408,
          227
         ],
         "xaxis": "x2",
         "y": [
          0.7845117845117845,
          0.8114478114478114,
          0.7923681257014591,
          0.7901234567901234,
          0.7890011223344556,
          0.7923681257014591,
          0.7811447811447811,
          0.7744107744107743,
          0.8002244668911335,
          0.8002244668911335,
          0.7890011223344557,
          0.7856341189674523,
          0.8035914702581369,
          0.8035914702581369,
          0.8114478114478114,
          0.8080808080808081,
          0.8103254769921436,
          0.8170594837261503,
          0.8058361391694725,
          0.8237934904601572
         ],
         "yaxis": "y2"
        },
        {
         "marker": {
          "color": [
           0,
           1,
           2,
           3,
           4,
           5,
           6,
           7,
           8,
           9,
           10,
           11,
           12,
           13,
           14,
           15,
           16,
           17,
           18,
           19
          ],
          "colorbar": {
           "title": {
            "text": "Trial"
           },
           "x": 1,
           "xpad": 40
          },
          "colorscale": [
           [
            0,
            "rgb(247,251,255)"
           ],
           [
            0.125,
            "rgb(222,235,247)"
           ],
           [
            0.25,
            "rgb(198,219,239)"
           ],
           [
            0.375,
            "rgb(158,202,225)"
           ],
           [
            0.5,
            "rgb(107,174,214)"
           ],
           [
            0.625,
            "rgb(66,146,198)"
           ],
           [
            0.75,
            "rgb(33,113,181)"
           ],
           [
            0.875,
            "rgb(8,81,156)"
           ],
           [
            1,
            "rgb(8,48,107)"
           ]
          ],
          "line": {
           "color": "Grey",
           "width": 0.5
          },
          "showscale": false
         },
         "mode": "markers",
         "showlegend": false,
         "type": "scatter",
         "x": [
          0.20397143402025505,
          0.038114175241709396,
          0.04526790152835119,
          0.25285368313133494,
          0.2491159725762235,
          0.15219677004766444,
          0.048900348473472355,
          0.29396696530703403,
          0.24355541775166392,
          0.1426199311893601,
          0.010509803040449683,
          0.10302762951548927,
          0.20294446978244568,
          0.09854183841100067,
          0.19373682145174917,
          0.1904256259737274,
          0.108332964121585,
          0.0669283805507266,
          0.06386179077758442,
          0.015378802810271684
         ],
         "xaxis": "x3",
         "y": [
          0.7845117845117845,
          0.8114478114478114,
          0.7923681257014591,
          0.7901234567901234,
          0.7890011223344556,
          0.7923681257014591,
          0.7811447811447811,
          0.7744107744107743,
          0.8002244668911335,
          0.8002244668911335,
          0.7890011223344557,
          0.7856341189674523,
          0.8035914702581369,
          0.8035914702581369,
          0.8114478114478114,
          0.8080808080808081,
          0.8103254769921436,
          0.8170594837261503,
          0.8058361391694725,
          0.8237934904601572
         ],
         "yaxis": "y3"
        },
        {
         "marker": {
          "color": [
           0,
           1,
           2,
           3,
           4,
           5,
           6,
           7,
           8,
           9,
           10,
           11,
           12,
           13,
           14,
           15,
           16,
           17,
           18,
           19
          ],
          "colorbar": {
           "title": {
            "text": "Trial"
           },
           "x": 1,
           "xpad": 40
          },
          "colorscale": [
           [
            0,
            "rgb(247,251,255)"
           ],
           [
            0.125,
            "rgb(222,235,247)"
           ],
           [
            0.25,
            "rgb(198,219,239)"
           ],
           [
            0.375,
            "rgb(158,202,225)"
           ],
           [
            0.5,
            "rgb(107,174,214)"
           ],
           [
            0.625,
            "rgb(66,146,198)"
           ],
           [
            0.75,
            "rgb(33,113,181)"
           ],
           [
            0.875,
            "rgb(8,81,156)"
           ],
           [
            1,
            "rgb(8,48,107)"
           ]
          ],
          "line": {
           "color": "Grey",
           "width": 0.5
          },
          "showscale": false
         },
         "mode": "markers",
         "showlegend": false,
         "type": "scatter",
         "x": [
          "CatBoostClassifier",
          "CatBoostClassifier",
          "LGBMClassifier",
          "DecisionTreeClassifier",
          "CatBoostClassifier",
          "LGBMClassifier",
          "LGBMClassifier",
          "DecisionTreeClassifier",
          "LogisticRegression",
          "LogisticRegression",
          "CatBoostClassifier",
          "LogisticRegression",
          "LogisticRegression",
          "LogisticRegression",
          "CatBoostClassifier",
          "CatBoostClassifier",
          "CatBoostClassifier",
          "CatBoostClassifier",
          "CatBoostClassifier",
          "CatBoostClassifier"
         ],
         "xaxis": "x4",
         "y": [
          0.7845117845117845,
          0.8114478114478114,
          0.7923681257014591,
          0.7901234567901234,
          0.7890011223344556,
          0.7923681257014591,
          0.7811447811447811,
          0.7744107744107743,
          0.8002244668911335,
          0.8002244668911335,
          0.7890011223344557,
          0.7856341189674523,
          0.8035914702581369,
          0.8035914702581369,
          0.8114478114478114,
          0.8080808080808081,
          0.8103254769921436,
          0.8170594837261503,
          0.8058361391694725,
          0.8237934904601572
         ],
         "yaxis": "y4"
        }
       ],
       "layout": {
        "height": 500,
        "legend": {
         "orientation": "h"
        },
        "template": {
         "data": {
          "bar": [
           {
            "error_x": {
             "color": "#2a3f5f"
            },
            "error_y": {
             "color": "#2a3f5f"
            },
            "marker": {
             "line": {
              "color": "white",
              "width": 0.5
             },
             "pattern": {
              "fillmode": "overlay",
              "size": 10,
              "solidity": 0.2
             }
            },
            "type": "bar"
           }
          ],
          "barpolar": [
           {
            "marker": {
             "line": {
              "color": "white",
              "width": 0.5
             },
             "pattern": {
              "fillmode": "overlay",
              "size": 10,
              "solidity": 0.2
             }
            },
            "type": "barpolar"
           }
          ],
          "carpet": [
           {
            "aaxis": {
             "endlinecolor": "#2a3f5f",
             "gridcolor": "#C8D4E3",
             "linecolor": "#C8D4E3",
             "minorgridcolor": "#C8D4E3",
             "startlinecolor": "#2a3f5f"
            },
            "baxis": {
             "endlinecolor": "#2a3f5f",
             "gridcolor": "#C8D4E3",
             "linecolor": "#C8D4E3",
             "minorgridcolor": "#C8D4E3",
             "startlinecolor": "#2a3f5f"
            },
            "type": "carpet"
           }
          ],
          "choropleth": [
           {
            "colorbar": {
             "outlinewidth": 0,
             "ticks": ""
            },
            "type": "choropleth"
           }
          ],
          "contour": [
           {
            "colorbar": {
             "outlinewidth": 0,
             "ticks": ""
            },
            "colorscale": [
             [
              0,
              "#0d0887"
             ],
             [
              0.1111111111111111,
              "#46039f"
             ],
             [
              0.2222222222222222,
              "#7201a8"
             ],
             [
              0.3333333333333333,
              "#9c179e"
             ],
             [
              0.4444444444444444,
              "#bd3786"
             ],
             [
              0.5555555555555556,
              "#d8576b"
             ],
             [
              0.6666666666666666,
              "#ed7953"
             ],
             [
              0.7777777777777778,
              "#fb9f3a"
             ],
             [
              0.8888888888888888,
              "#fdca26"
             ],
             [
              1,
              "#f0f921"
             ]
            ],
            "type": "contour"
           }
          ],
          "contourcarpet": [
           {
            "colorbar": {
             "outlinewidth": 0,
             "ticks": ""
            },
            "type": "contourcarpet"
           }
          ],
          "heatmap": [
           {
            "colorbar": {
             "outlinewidth": 0,
             "ticks": ""
            },
            "colorscale": [
             [
              0,
              "#0d0887"
             ],
             [
              0.1111111111111111,
              "#46039f"
             ],
             [
              0.2222222222222222,
              "#7201a8"
             ],
             [
              0.3333333333333333,
              "#9c179e"
             ],
             [
              0.4444444444444444,
              "#bd3786"
             ],
             [
              0.5555555555555556,
              "#d8576b"
             ],
             [
              0.6666666666666666,
              "#ed7953"
             ],
             [
              0.7777777777777778,
              "#fb9f3a"
             ],
             [
              0.8888888888888888,
              "#fdca26"
             ],
             [
              1,
              "#f0f921"
             ]
            ],
            "type": "heatmap"
           }
          ],
          "heatmapgl": [
           {
            "colorbar": {
             "outlinewidth": 0,
             "ticks": ""
            },
            "colorscale": [
             [
              0,
              "#0d0887"
             ],
             [
              0.1111111111111111,
              "#46039f"
             ],
             [
              0.2222222222222222,
              "#7201a8"
             ],
             [
              0.3333333333333333,
              "#9c179e"
             ],
             [
              0.4444444444444444,
              "#bd3786"
             ],
             [
              0.5555555555555556,
              "#d8576b"
             ],
             [
              0.6666666666666666,
              "#ed7953"
             ],
             [
              0.7777777777777778,
              "#fb9f3a"
             ],
             [
              0.8888888888888888,
              "#fdca26"
             ],
             [
              1,
              "#f0f921"
             ]
            ],
            "type": "heatmapgl"
           }
          ],
          "histogram": [
           {
            "marker": {
             "pattern": {
              "fillmode": "overlay",
              "size": 10,
              "solidity": 0.2
             }
            },
            "type": "histogram"
           }
          ],
          "histogram2d": [
           {
            "colorbar": {
             "outlinewidth": 0,
             "ticks": ""
            },
            "colorscale": [
             [
              0,
              "#0d0887"
             ],
             [
              0.1111111111111111,
              "#46039f"
             ],
             [
              0.2222222222222222,
              "#7201a8"
             ],
             [
              0.3333333333333333,
              "#9c179e"
             ],
             [
              0.4444444444444444,
              "#bd3786"
             ],
             [
              0.5555555555555556,
              "#d8576b"
             ],
             [
              0.6666666666666666,
              "#ed7953"
             ],
             [
              0.7777777777777778,
              "#fb9f3a"
             ],
             [
              0.8888888888888888,
              "#fdca26"
             ],
             [
              1,
              "#f0f921"
             ]
            ],
            "type": "histogram2d"
           }
          ],
          "histogram2dcontour": [
           {
            "colorbar": {
             "outlinewidth": 0,
             "ticks": ""
            },
            "colorscale": [
             [
              0,
              "#0d0887"
             ],
             [
              0.1111111111111111,
              "#46039f"
             ],
             [
              0.2222222222222222,
              "#7201a8"
             ],
             [
              0.3333333333333333,
              "#9c179e"
             ],
             [
              0.4444444444444444,
              "#bd3786"
             ],
             [
              0.5555555555555556,
              "#d8576b"
             ],
             [
              0.6666666666666666,
              "#ed7953"
             ],
             [
              0.7777777777777778,
              "#fb9f3a"
             ],
             [
              0.8888888888888888,
              "#fdca26"
             ],
             [
              1,
              "#f0f921"
             ]
            ],
            "type": "histogram2dcontour"
           }
          ],
          "mesh3d": [
           {
            "colorbar": {
             "outlinewidth": 0,
             "ticks": ""
            },
            "type": "mesh3d"
           }
          ],
          "parcoords": [
           {
            "line": {
             "colorbar": {
              "outlinewidth": 0,
              "ticks": ""
             }
            },
            "type": "parcoords"
           }
          ],
          "pie": [
           {
            "automargin": true,
            "type": "pie"
           }
          ],
          "scatter": [
           {
            "fillpattern": {
             "fillmode": "overlay",
             "size": 10,
             "solidity": 0.2
            },
            "type": "scatter"
           }
          ],
          "scatter3d": [
           {
            "line": {
             "colorbar": {
              "outlinewidth": 0,
              "ticks": ""
             }
            },
            "marker": {
             "colorbar": {
              "outlinewidth": 0,
              "ticks": ""
             }
            },
            "type": "scatter3d"
           }
          ],
          "scattercarpet": [
           {
            "marker": {
             "colorbar": {
              "outlinewidth": 0,
              "ticks": ""
             }
            },
            "type": "scattercarpet"
           }
          ],
          "scattergeo": [
           {
            "marker": {
             "colorbar": {
              "outlinewidth": 0,
              "ticks": ""
             }
            },
            "type": "scattergeo"
           }
          ],
          "scattergl": [
           {
            "marker": {
             "colorbar": {
              "outlinewidth": 0,
              "ticks": ""
             }
            },
            "type": "scattergl"
           }
          ],
          "scattermapbox": [
           {
            "marker": {
             "colorbar": {
              "outlinewidth": 0,
              "ticks": ""
             }
            },
            "type": "scattermapbox"
           }
          ],
          "scatterpolar": [
           {
            "marker": {
             "colorbar": {
              "outlinewidth": 0,
              "ticks": ""
             }
            },
            "type": "scatterpolar"
           }
          ],
          "scatterpolargl": [
           {
            "marker": {
             "colorbar": {
              "outlinewidth": 0,
              "ticks": ""
             }
            },
            "type": "scatterpolargl"
           }
          ],
          "scatterternary": [
           {
            "marker": {
             "colorbar": {
              "outlinewidth": 0,
              "ticks": ""
             }
            },
            "type": "scatterternary"
           }
          ],
          "surface": [
           {
            "colorbar": {
             "outlinewidth": 0,
             "ticks": ""
            },
            "colorscale": [
             [
              0,
              "#0d0887"
             ],
             [
              0.1111111111111111,
              "#46039f"
             ],
             [
              0.2222222222222222,
              "#7201a8"
             ],
             [
              0.3333333333333333,
              "#9c179e"
             ],
             [
              0.4444444444444444,
              "#bd3786"
             ],
             [
              0.5555555555555556,
              "#d8576b"
             ],
             [
              0.6666666666666666,
              "#ed7953"
             ],
             [
              0.7777777777777778,
              "#fb9f3a"
             ],
             [
              0.8888888888888888,
              "#fdca26"
             ],
             [
              1,
              "#f0f921"
             ]
            ],
            "type": "surface"
           }
          ],
          "table": [
           {
            "cells": {
             "fill": {
              "color": "#EBF0F8"
             },
             "line": {
              "color": "white"
             }
            },
            "header": {
             "fill": {
              "color": "#C8D4E3"
             },
             "line": {
              "color": "white"
             }
            },
            "type": "table"
           }
          ]
         },
         "layout": {
          "annotationdefaults": {
           "arrowcolor": "#2a3f5f",
           "arrowhead": 0,
           "arrowwidth": 1
          },
          "autotypenumbers": "strict",
          "coloraxis": {
           "colorbar": {
            "outlinewidth": 0,
            "ticks": ""
           }
          },
          "colorscale": {
           "diverging": [
            [
             0,
             "#8e0152"
            ],
            [
             0.1,
             "#c51b7d"
            ],
            [
             0.2,
             "#de77ae"
            ],
            [
             0.3,
             "#f1b6da"
            ],
            [
             0.4,
             "#fde0ef"
            ],
            [
             0.5,
             "#f7f7f7"
            ],
            [
             0.6,
             "#e6f5d0"
            ],
            [
             0.7,
             "#b8e186"
            ],
            [
             0.8,
             "#7fbc41"
            ],
            [
             0.9,
             "#4d9221"
            ],
            [
             1,
             "#276419"
            ]
           ],
           "sequential": [
            [
             0,
             "#0d0887"
            ],
            [
             0.1111111111111111,
             "#46039f"
            ],
            [
             0.2222222222222222,
             "#7201a8"
            ],
            [
             0.3333333333333333,
             "#9c179e"
            ],
            [
             0.4444444444444444,
             "#bd3786"
            ],
            [
             0.5555555555555556,
             "#d8576b"
            ],
            [
             0.6666666666666666,
             "#ed7953"
            ],
            [
             0.7777777777777778,
             "#fb9f3a"
            ],
            [
             0.8888888888888888,
             "#fdca26"
            ],
            [
             1,
             "#f0f921"
            ]
           ],
           "sequentialminus": [
            [
             0,
             "#0d0887"
            ],
            [
             0.1111111111111111,
             "#46039f"
            ],
            [
             0.2222222222222222,
             "#7201a8"
            ],
            [
             0.3333333333333333,
             "#9c179e"
            ],
            [
             0.4444444444444444,
             "#bd3786"
            ],
            [
             0.5555555555555556,
             "#d8576b"
            ],
            [
             0.6666666666666666,
             "#ed7953"
            ],
            [
             0.7777777777777778,
             "#fb9f3a"
            ],
            [
             0.8888888888888888,
             "#fdca26"
            ],
            [
             1,
             "#f0f921"
            ]
           ]
          },
          "colorway": [
           "#636efa",
           "#EF553B",
           "#00cc96",
           "#ab63fa",
           "#FFA15A",
           "#19d3f3",
           "#FF6692",
           "#B6E880",
           "#FF97FF",
           "#FECB52"
          ],
          "font": {
           "color": "#2a3f5f"
          },
          "geo": {
           "bgcolor": "white",
           "lakecolor": "white",
           "landcolor": "white",
           "showlakes": true,
           "showland": true,
           "subunitcolor": "#C8D4E3"
          },
          "hoverlabel": {
           "align": "left"
          },
          "hovermode": "closest",
          "mapbox": {
           "style": "light"
          },
          "paper_bgcolor": "white",
          "plot_bgcolor": "white",
          "polar": {
           "angularaxis": {
            "gridcolor": "#EBF0F8",
            "linecolor": "#EBF0F8",
            "ticks": ""
           },
           "bgcolor": "white",
           "radialaxis": {
            "gridcolor": "#EBF0F8",
            "linecolor": "#EBF0F8",
            "ticks": ""
           }
          },
          "scene": {
           "xaxis": {
            "backgroundcolor": "white",
            "gridcolor": "#DFE8F3",
            "gridwidth": 2,
            "linecolor": "#EBF0F8",
            "showbackground": true,
            "ticks": "",
            "zerolinecolor": "#EBF0F8"
           },
           "yaxis": {
            "backgroundcolor": "white",
            "gridcolor": "#DFE8F3",
            "gridwidth": 2,
            "linecolor": "#EBF0F8",
            "showbackground": true,
            "ticks": "",
            "zerolinecolor": "#EBF0F8"
           },
           "zaxis": {
            "backgroundcolor": "white",
            "gridcolor": "#DFE8F3",
            "gridwidth": 2,
            "linecolor": "#EBF0F8",
            "showbackground": true,
            "ticks": "",
            "zerolinecolor": "#EBF0F8"
           }
          },
          "shapedefaults": {
           "line": {
            "color": "#2a3f5f"
           }
          },
          "ternary": {
           "aaxis": {
            "gridcolor": "#DFE8F3",
            "linecolor": "#A2B1C6",
            "ticks": ""
           },
           "baxis": {
            "gridcolor": "#DFE8F3",
            "linecolor": "#A2B1C6",
            "ticks": ""
           },
           "bgcolor": "white",
           "caxis": {
            "gridcolor": "#DFE8F3",
            "linecolor": "#A2B1C6",
            "ticks": ""
           }
          },
          "title": {
           "x": 0.05
          },
          "xaxis": {
           "automargin": true,
           "gridcolor": "#EBF0F8",
           "linecolor": "#EBF0F8",
           "ticks": "",
           "title": {
            "standoff": 15
           },
           "zerolinecolor": "#EBF0F8",
           "zerolinewidth": 2
          },
          "yaxis": {
           "automargin": true,
           "gridcolor": "#EBF0F8",
           "linecolor": "#EBF0F8",
           "ticks": "",
           "title": {
            "standoff": 15
           },
           "zerolinecolor": "#EBF0F8",
           "zerolinewidth": 2
          }
         }
        },
        "title": {
         "text": "Slice Plot"
        },
        "width": 900,
        "xaxis": {
         "anchor": "y",
         "domain": [
          0,
          0.2125
         ],
         "tickangle": -90,
         "title": {
          "text": "cb_depth"
         }
        },
        "xaxis2": {
         "anchor": "y2",
         "domain": [
          0.2625,
          0.475
         ],
         "tickangle": -90,
         "title": {
          "text": "cb_iterations"
         }
        },
        "xaxis3": {
         "anchor": "y3",
         "domain": [
          0.525,
          0.7375
         ],
         "tickangle": -90,
         "title": {
          "text": "cb_learning_rate"
         }
        },
        "xaxis4": {
         "anchor": "y4",
         "domain": [
          0.7875,
          1
         ],
         "tickangle": -90,
         "title": {
          "text": "classifier"
         }
        },
        "yaxis": {
         "anchor": "x",
         "domain": [
          0,
          1
         ],
         "title": {
          "text": "Objective Value"
         }
        },
        "yaxis2": {
         "anchor": "x2",
         "domain": [
          0,
          1
         ],
         "matches": "y",
         "showticklabels": false
        },
        "yaxis3": {
         "anchor": "x3",
         "domain": [
          0,
          1
         ],
         "matches": "y",
         "showticklabels": false
        },
        "yaxis4": {
         "anchor": "x4",
         "domain": [
          0,
          1
         ],
         "matches": "y",
         "showticklabels": false
        }
       }
      }
     },
     "metadata": {},
     "output_type": "display_data"
    }
   ],
   "source": [
    "fig = optuna.visualization.plot_optimization_history(study)\n",
    "fig.update_layout(\n",
    "    legend=dict(orientation='h'),\n",
    "    template='plotly_white',\n",
    "    width=FIG_WIDTH, height=FIG_HEIGHT\n",
    ")\n",
    "fig.show()\n",
    "\n",
    "fig = optuna.visualization.plot_slice(study, params=relevant_params)\n",
    "fig.update_layout(\n",
    "    legend=dict(orientation='h'),\n",
    "    template='plotly_white',\n",
    "    width=FIG_WIDTH, height=FIG_HEIGHT\n",
    ")\n",
    "fig.update_xaxes(tickangle=-90)\n",
    "fig.show()"
   ]
  },
  {
   "cell_type": "markdown",
   "metadata": {},
   "source": [
    "Finally, let's use the optimal model to predict if a person would survive the Titanic disaster."
   ]
  },
  {
   "cell_type": "code",
   "execution_count": 74,
   "metadata": {},
   "outputs": [],
   "source": [
    "model = CatBoostClassifier(\n",
    "    iterations=study.best_params['cb_iterations'],\n",
    "    learning_rate=study.best_params['cb_learning_rate'],\n",
    "    depth=study.best_params['cb_depth'],\n",
    "    silent=True,\n",
    "    random_state=RANDOM_SEED\n",
    ")\n",
    "\n",
    "model.fit(dct_splits['train']['features'], dct_splits['train']['target']);\n",
    "\n",
    "for dataset in ['train', 'test']:\n",
    "    dct_splits[dataset]['prediction'] = pd.DataFrame(\n",
    "        model.predict(dct_splits['train']['features']), columns=['survived']\n",
    "    )"
   ]
  },
  {
   "cell_type": "code",
   "execution_count": 75,
   "metadata": {},
   "outputs": [
    {
     "data": {
      "text/html": [
       "<div>\n",
       "<style scoped>\n",
       "    .dataframe tbody tr th:only-of-type {\n",
       "        vertical-align: middle;\n",
       "    }\n",
       "\n",
       "    .dataframe tbody tr th {\n",
       "        vertical-align: top;\n",
       "    }\n",
       "\n",
       "    .dataframe thead th {\n",
       "        text-align: right;\n",
       "    }\n",
       "</style>\n",
       "<table border=\"1\" class=\"dataframe\">\n",
       "  <thead>\n",
       "    <tr style=\"text-align: right;\">\n",
       "      <th></th>\n",
       "      <th>survived</th>\n",
       "    </tr>\n",
       "  </thead>\n",
       "  <tbody>\n",
       "    <tr>\n",
       "      <th>0</th>\n",
       "      <td>0</td>\n",
       "    </tr>\n",
       "    <tr>\n",
       "      <th>1</th>\n",
       "      <td>1</td>\n",
       "    </tr>\n",
       "    <tr>\n",
       "      <th>2</th>\n",
       "      <td>1</td>\n",
       "    </tr>\n",
       "    <tr>\n",
       "      <th>3</th>\n",
       "      <td>1</td>\n",
       "    </tr>\n",
       "    <tr>\n",
       "      <th>4</th>\n",
       "      <td>0</td>\n",
       "    </tr>\n",
       "    <tr>\n",
       "      <th>...</th>\n",
       "      <td>...</td>\n",
       "    </tr>\n",
       "    <tr>\n",
       "      <th>886</th>\n",
       "      <td>0</td>\n",
       "    </tr>\n",
       "    <tr>\n",
       "      <th>887</th>\n",
       "      <td>1</td>\n",
       "    </tr>\n",
       "    <tr>\n",
       "      <th>888</th>\n",
       "      <td>0</td>\n",
       "    </tr>\n",
       "    <tr>\n",
       "      <th>889</th>\n",
       "      <td>0</td>\n",
       "    </tr>\n",
       "    <tr>\n",
       "      <th>890</th>\n",
       "      <td>0</td>\n",
       "    </tr>\n",
       "  </tbody>\n",
       "</table>\n",
       "<p>891 rows × 1 columns</p>\n",
       "</div>"
      ],
      "text/plain": [
       "     survived\n",
       "0           0\n",
       "1           1\n",
       "2           1\n",
       "3           1\n",
       "4           0\n",
       "..        ...\n",
       "886         0\n",
       "887         1\n",
       "888         0\n",
       "889         0\n",
       "890         0\n",
       "\n",
       "[891 rows x 1 columns]"
      ]
     },
     "execution_count": 75,
     "metadata": {},
     "output_type": "execute_result"
    }
   ],
   "source": [
    "dct_splits['train']['prediction']"
   ]
  }
 ],
 "metadata": {
  "kernelspec": {
   "display_name": "base",
   "language": "python",
   "name": "python3"
  },
  "language_info": {
   "codemirror_mode": {
    "name": "ipython",
    "version": 3
   },
   "file_extension": ".py",
   "mimetype": "text/x-python",
   "name": "python",
   "nbconvert_exporter": "python",
   "pygments_lexer": "ipython3",
   "version": "3.9.7"
  },
  "orig_nbformat": 4
 },
 "nbformat": 4,
 "nbformat_minor": 2
}
